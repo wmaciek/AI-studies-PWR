{
  "cells": [
    {
      "cell_type": "markdown",
      "id": "7126b271",
      "metadata": {
        "id": "7126b271"
      },
      "source": [
        "Przed oddaniem zadania upewnij się, że wszystko działa poprawnie.\n",
        "**Uruchom ponownie kernel** (z paska menu: Kernel$\\rightarrow$Restart) a następnie\n",
        "**wykonaj wszystkie komórki** (z paska menu: Cell$\\rightarrow$Run All).\n",
        "\n",
        "Upewnij się, że wypełniłeś wszystkie pola `TU WPISZ KOD` lub `TU WPISZ ODPOWIEDŹ`, oraz\n",
        "że podałeś swoje imię i nazwisko poniżej:"
      ]
    },
    {
      "cell_type": "code",
      "execution_count": null,
      "id": "7aa7d58f",
      "metadata": {
        "id": "7aa7d58f"
      },
      "outputs": [],
      "source": [
        "NAME = \"Maciej Wilhelmi\""
      ]
    },
    {
      "cell_type": "markdown",
      "id": "6414b215",
      "metadata": {
        "id": "6414b215"
      },
      "source": [
        "---"
      ]
    },
    {
      "cell_type": "markdown",
      "id": "71d10a9b",
      "metadata": {
        "id": "71d10a9b"
      },
      "source": [
        "# 0. Wprowadzenie\n",
        "\n",
        "W trakcie dzisiejszego laboratorium poruszymy tematykę uczenia reprezentacji dla ciągów czasowych. Dotychczas rozważaliśmy dane o charakterze statycznym, jednak w wielu rzeczywistych problemach natrafiamy na zjawisko zmienności danych w czasie, np. wideo jako zmienny obraz w czasie; ciągle zmieniająca się struktura grafu zakupów (graf dynamiczny). \n",
        "\n",
        "Ogólnym przypadkiem danych zmiennych w czasie są tzw. **ciągi czasowe** (ang. *time-series*). W przypadku kiedy dysponujemy wieloma wartościami zmiennymi w czasie, możemy je zamodelować jako wielowymiarowe ciągi czasowe (ang. *multivariate time-series*).\n",
        "\n",
        "Formalnie taki wielowymiarowy ciąg czasowy możemy opisać jako macierz:\n",
        "\n",
        "$$X \\in \\mathbb{R}^{D \\times T},$$\n",
        "\n",
        "gdzie $D$ jest liczbą cech (zmiennych), natomiast $T$ jest liczbą pomiarów w czasie."
      ]
    },
    {
      "cell_type": "markdown",
      "id": "d36600cf",
      "metadata": {
        "id": "d36600cf"
      },
      "source": [
        "Zagadnienie uczenia reprezentacji dla ciągów czasowych jest stosunkowo mało wyeksplorowane. Większość metod skupia się na scenariuszach nadzorowanych, określając wybrany punkt w modelu jako warstwę reprezentacji. Na tym kursie chcemy się jednak skupić na nienadzorowanych metodach uczenia reprezentacji. Tych metod (dla ciągów czasowych) jest znacząco mniej. W trakcie laboratorium zaponamy się z niedawno opublikowaną metodą o nazwie *Temporal Neighborhood Coding* (artykuł [Unsupervised Representation Learning\n",
        "for Time Series with Temporal Neighborhood Coding](https://openreview.net/pdf?id=8qDwejCuCN)). Została ona przedstawiona na konferencji ICRL 2021. Autorzy zaproponowali nieskomplikowaną a wydajną metodę uzyskiwania reprezentacji fragmentów ciągów czasowych, która jest niezależna od wyboru modułu kodera (tzw. *framework*)."
      ]
    },
    {
      "cell_type": "markdown",
      "id": "2db50e99",
      "metadata": {
        "id": "2db50e99"
      },
      "source": [
        "W ramach laboratorium:\n",
        "- zaimplementujemy koder oparty o rekurencyjną sieć GRU\n",
        "- funkcję kosztu metody TNC\n",
        "- sprawdzimy jakość działania dla scenariusza podanego przez autorów pracy\n",
        "- zbadamy hiperparametry metody"
      ]
    }
  ],
  "metadata": {
    "kernelspec": {
      "display_name": "Python 3 (ipykernel)",
      "language": "python",
      "name": "python3"
    },
    "language_info": {
      "codemirror_mode": {
        "name": "ipython",
        "version": 3
      },
      "file_extension": ".py",
      "mimetype": "text/x-python",
      "name": "python",
      "nbconvert_exporter": "python",
      "pygments_lexer": "ipython3",
      "version": "3.8.9"
    },
    "colab": {
      "provenance": []
    }
  },
  "nbformat": 4,
  "nbformat_minor": 5
}