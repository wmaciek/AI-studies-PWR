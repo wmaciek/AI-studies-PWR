{
 "cells": [
  {
   "cell_type": "markdown",
   "id": "46509065",
   "metadata": {},
   "source": [
    "Przed oddaniem zadania upewnij się, że wszystko działa poprawnie.\n",
    "**Uruchom ponownie kernel** (z paska menu: Kernel$\\rightarrow$Restart) a następnie\n",
    "**wykonaj wszystkie komórki** (z paska menu: Cell$\\rightarrow$Run All).\n",
    "\n",
    "Upewnij się, że wypełniłeś wszystkie pola `TU WPISZ KOD` lub `TU WPISZ ODPOWIEDŹ`, oraz\n",
    "że podałeś swoje imię i nazwisko poniżej:"
   ]
  },
  {
   "cell_type": "code",
   "execution_count": 1,
   "id": "52fe0f30",
   "metadata": {},
   "outputs": [],
   "source": [
    "NAME = \"Maciej Wilhelmi\""
   ]
  },
  {
   "cell_type": "markdown",
   "id": "4702e4fb",
   "metadata": {},
   "source": [
    "---"
   ]
  },
  {
   "cell_type": "markdown",
   "id": "national-slovak",
   "metadata": {},
   "source": [
    "# Środowisko w laboratorium\n",
    "\n",
    "W tym notebooku znajdują się zadania, mające na celu zapoznanie się ze środowiskiem, w którym będzie się odbywać laboratorium. Wykonaj wszystkie zadania zgodnie z zamieszczonymi przy nich instrukcjami.\n"
   ]
  },
  {
   "cell_type": "markdown",
   "id": "earned-minister",
   "metadata": {},
   "source": [
    "W laboratorium wykorzystywane są zeszyty Jupyter Notebook. Są to interaktywne dokumenty mogące zawierać kod oraz wyniki jego działania, wraz z dodatkową treścią, dodawaną przy użyciu języka [Markdown](https://www.markdownguide.org/). W zeszytach Jupyter Notebook można wykorzystywać wiele języków: Python, R, Julia itp.; na laboratorium wykorzystywany będzie język Python.\n",
    "    \n",
    "Przygotowanie środowiska polega na zainstalowaniu wymaganych paczek z dostarczonego pliku `requirements.txt`:\n",
    "\n",
    "```console\n",
    "pip install -r requirements.txt\n",
    "```\n",
    "\n",
    "Polecamy wykorzystanie [wirtualnych środowisk](https://packaging.python.org/guides/installing-using-pip-and-virtual-environments/) w celu izolacji od systemowego interpretera Python (plik `requirements.txt` może się zmieniać na kolejnych laboratoriach).\n",
    "\n",
    "Po zainstalowaniu paczek środowiska należy uruchomić serwer Jupyter poleceniem:\n",
    "\n",
    "```console\n",
    "jupyter notebook\n",
    "```\n",
    "\n",
    "Po uruchomieniu w przeglądarce otworzy się strona Jupyter, z której można wybrać plik zeszytu (o rozszerzeniu `*.ipynb`), aby go otworzyć. Jeżeli strona nie otworzyła się automatycznie, można wykorzystać link, który pojawi się w konsoli.\n"
   ]
  },
  {
   "cell_type": "markdown",
   "id": "musical-daniel",
   "metadata": {},
   "source": [
    "Zeszyt może zawiera komórki dwóch głównych rodzajów. Domyślnie tworzone są komórki zawierające kod (`Code` na pasku narzędzi). Pozwalają one na wprowadzanie i wykonywanie kodu (tu: w języku Python). Aby utworzyć nową komórkę poniżej aktualnej wybierz symbol <kbd>+</kbd> z paska narzędzi.\n",
    "\n",
    "Zeszyty jupyterowe umożliwiają również wywoływanie komend w konsoli. W tym celu należy dołączyć z przodu znak `!`:\n",
    "\n",
    "```python\n",
    "!echo \"This runs in shell\"\n",
    "```\n",
    "\n",
    "Typ komórki można zmienić wybierając ją, a następnie wybierając z listy na pasku narzędzi np. `Markdown`.\n",
    "\n",
    "Każdą komórkę można wykonać, wybierając symbol <kbd>▷</kbd> lub wciskając klawisze <kbd>⇧ Shift</kbd>+<kbd>⏎ Enter</kbd>. W każdej chwili możesz zatrzymać wykonywanie komórki wciskając symbol <kbd>⏹️</kbd>.\n",
    "\n",
    "Wartym odnotowania jest fakt, że wszystkie komórki w ramach jednego zeszytu współdzielą te same zmienne i importy. Istotna jest tutaj kolejność wywoływania komórek - ostatnia wykonana komórka nadpisuje pokrywające się zmienne. Przestrzeń zmiennych i importów można wyczyścić restartując kernel (z paska menu: <kbd>Kernel</kbd>-><kbd>Restart</kbd>).\n",
    "\n",
    "Narzędzie jest proste w obsłudze: polecamy przejrzeć pasek menu oraz pasek narzędzi i sprawdzić dostępne opcje.\n"
   ]
  },
  {
   "cell_type": "markdown",
   "id": "stock-printer",
   "metadata": {
    "deletable": false,
    "editable": false,
    "nbgrader": {
     "cell_type": "markdown",
     "checksum": "73b38ef82aca7b4ae6cba52911c84590",
     "grade": false,
     "grade_id": "cells",
     "locked": true,
     "points": 0,
     "schema_version": 3,
     "solution": false,
     "task": true
    }
   },
   "source": [
    "### Zadanie 0.1\n",
    "\n",
    "Utwórz pod niniejszą komórką dwie komórki: jedną typu `Code`, a drugą typu `Markdown`, wypełnij je dowolną treścią i wykonaj.\n"
   ]
  },
  {
   "cell_type": "markdown",
   "id": "worse-oliver",
   "metadata": {},
   "source": [
    "Poniżej znajdują się przykładowe zadania. Wykonaj je, wypełniając pola 'TU WPISZ KOD' oraz 'TU WPISZ ODPOWIEDŹ'. Do zadania 0.3 zostały dołączone przykładowe testy sprawdzające działanie kodu - nie są to jednak wszystkie testy przygotowane w laboratorium.\n"
   ]
  },
  {
   "cell_type": "markdown",
   "id": "virtual-forward",
   "metadata": {},
   "source": [
    "### Zadanie 0.2\n",
    "\n",
    "Zapisz wzór średniej harmonicznej, używając składni $\\LaTeX$.\n",
    "\n",
    "Przykład: `$$y=ax+b$$`\n",
    "$$y=ax+b$$\n"
   ]
  },
  {
   "cell_type": "markdown",
   "id": "forty-yugoslavia",
   "metadata": {
    "deletable": false,
    "nbgrader": {
     "cell_type": "markdown",
     "checksum": "8a93456ad8070530fe32650553c33156",
     "grade": true,
     "grade_id": "harmonic_mean_eq",
     "locked": false,
     "points": 0,
     "schema_version": 3,
     "solution": true,
     "task": false
    }
   },
   "source": [
    "$$\n",
    "h_n=\\frac{n}{\\frac{1}{a_1}+\\frac{1}{a_2}+\\ldots+\\frac{1}{a_n}}\n",
    "$$"
   ]
  },
  {
   "cell_type": "markdown",
   "id": "duplicate-maintenance",
   "metadata": {},
   "source": [
    "### Zadanie 0.3\n",
    "\n",
    "Zaimplementuj średnią harmoniczną w *czystym* pythonie. Funkcja `harmonic_mean` ma przyjmować listę dodatnich liczb i zwracać średnią harmoniczną.\n",
    "\n",
    "Ważne: obsłuż błędne przypadki wywołując błąd `ValueError`.\n"
   ]
  },
  {
   "cell_type": "code",
   "execution_count": 4,
   "id": "senior-hayes",
   "metadata": {
    "deletable": false,
    "nbgrader": {
     "cell_type": "code",
     "checksum": "a5fac0b352d6b9135543d3b14050fc11",
     "grade": false,
     "grade_id": "harmonic_mean_code",
     "locked": false,
     "schema_version": 3,
     "solution": true,
     "task": false
    }
   },
   "outputs": [],
   "source": [
    "def harmonic_mean(data):\n",
    "    \"\"\"Return harmonic mean for given list of numbers.\"\"\"\n",
    "    # TU WPISZ KOD\n",
    "    raise NotImplementedError()\n"
   ]
  },
  {
   "cell_type": "code",
   "execution_count": 3,
   "id": "proved-uruguay",
   "metadata": {
    "deletable": false,
    "editable": false,
    "nbgrader": {
     "cell_type": "code",
     "checksum": "392e9579f4613d4859521a97cdf6a023",
     "grade": true,
     "grade_id": "harmonic_mean_tests",
     "locked": true,
     "points": 0,
     "schema_version": 3,
     "solution": false,
     "task": false
    }
   },
   "outputs": [
    {
     "ename": "TypeError",
     "evalue": "unsupported operand type(s) for -: 'NoneType' and 'float'",
     "output_type": "error",
     "traceback": [
      "\u001B[0;31m---------------------------------------------------------------------------\u001B[0m",
      "\u001B[0;31mTypeError\u001B[0m                                 Traceback (most recent call last)",
      "Cell \u001B[0;32mIn[3], line 4\u001B[0m\n\u001B[1;32m      1\u001B[0m \u001B[38;5;66;03m# Sprawdzenie działania funkcji\u001B[39;00m\n\u001B[1;32m      2\u001B[0m \u001B[38;5;28;01mfrom\u001B[39;00m \u001B[38;5;21;01mnose\u001B[39;00m\u001B[38;5;21;01m.\u001B[39;00m\u001B[38;5;21;01mtools\u001B[39;00m \u001B[38;5;28;01mimport\u001B[39;00m assert_almost_equal, assert_raises\n\u001B[0;32m----> 4\u001B[0m \u001B[43massert_almost_equal\u001B[49m\u001B[43m(\u001B[49m\u001B[43mharmonic_mean\u001B[49m\u001B[43m(\u001B[49m\u001B[43m[\u001B[49m\u001B[38;5;241;43m2\u001B[39;49m\u001B[43m,\u001B[49m\u001B[43m \u001B[49m\u001B[38;5;241;43m3\u001B[39;49m\u001B[43m,\u001B[49m\u001B[43m \u001B[49m\u001B[38;5;241;43m5\u001B[39;49m\u001B[43m,\u001B[49m\u001B[43m \u001B[49m\u001B[38;5;241;43m7\u001B[39;49m\u001B[43m,\u001B[49m\u001B[43m \u001B[49m\u001B[38;5;241;43m8\u001B[39;49m\u001B[43m]\u001B[49m\u001B[43m)\u001B[49m\u001B[43m,\u001B[49m\u001B[43m \u001B[49m\u001B[38;5;241;43m3.843\u001B[39;49m\u001B[43m,\u001B[49m\u001B[43m \u001B[49m\u001B[43mplaces\u001B[49m\u001B[38;5;241;43m=\u001B[39;49m\u001B[38;5;241;43m3\u001B[39;49m\u001B[43m)\u001B[49m\n\u001B[1;32m      5\u001B[0m assert_almost_equal(harmonic_mean([\u001B[38;5;241m2.5\u001B[39m, \u001B[38;5;241m5.23\u001B[39m, \u001B[38;5;241m8.64\u001B[39m, \u001B[38;5;241m9.87\u001B[39m, \u001B[38;5;241m23.5\u001B[39m]), \u001B[38;5;241m5.877\u001B[39m, places\u001B[38;5;241m=\u001B[39m\u001B[38;5;241m3\u001B[39m)\n\u001B[1;32m      6\u001B[0m assert_raises(\u001B[38;5;167;01mValueError\u001B[39;00m, harmonic_mean, [\u001B[38;5;241m-\u001B[39m\u001B[38;5;241m1\u001B[39m, \u001B[38;5;241m2\u001B[39m])\n",
      "File \u001B[0;32m~/opt/anaconda3/envs/pmg1/lib/python3.8/unittest/case.py:943\u001B[0m, in \u001B[0;36mTestCase.assertAlmostEqual\u001B[0;34m(self, first, second, places, msg, delta)\u001B[0m\n\u001B[1;32m    940\u001B[0m \u001B[38;5;28;01mif\u001B[39;00m delta \u001B[38;5;129;01mis\u001B[39;00m \u001B[38;5;129;01mnot\u001B[39;00m \u001B[38;5;28;01mNone\u001B[39;00m \u001B[38;5;129;01mand\u001B[39;00m places \u001B[38;5;129;01mis\u001B[39;00m \u001B[38;5;129;01mnot\u001B[39;00m \u001B[38;5;28;01mNone\u001B[39;00m:\n\u001B[1;32m    941\u001B[0m     \u001B[38;5;28;01mraise\u001B[39;00m \u001B[38;5;167;01mTypeError\u001B[39;00m(\u001B[38;5;124m\"\u001B[39m\u001B[38;5;124mspecify delta or places not both\u001B[39m\u001B[38;5;124m\"\u001B[39m)\n\u001B[0;32m--> 943\u001B[0m diff \u001B[38;5;241m=\u001B[39m \u001B[38;5;28mabs\u001B[39m(\u001B[43mfirst\u001B[49m\u001B[43m \u001B[49m\u001B[38;5;241;43m-\u001B[39;49m\u001B[43m \u001B[49m\u001B[43msecond\u001B[49m)\n\u001B[1;32m    944\u001B[0m \u001B[38;5;28;01mif\u001B[39;00m delta \u001B[38;5;129;01mis\u001B[39;00m \u001B[38;5;129;01mnot\u001B[39;00m \u001B[38;5;28;01mNone\u001B[39;00m:\n\u001B[1;32m    945\u001B[0m     \u001B[38;5;28;01mif\u001B[39;00m diff \u001B[38;5;241m<\u001B[39m\u001B[38;5;241m=\u001B[39m delta:\n",
      "\u001B[0;31mTypeError\u001B[0m: unsupported operand type(s) for -: 'NoneType' and 'float'"
     ]
    }
   ],
   "source": [
    "# Sprawdzenie działania funkcji\n",
    "from nose.tools import assert_almost_equal, assert_raises\n",
    "\n",
    "assert_almost_equal(harmonic_mean([2, 3, 5, 7, 8]), 3.843, places=3)\n",
    "assert_almost_equal(harmonic_mean([2.5, 5.23, 8.64, 9.87, 23.5]), 5.877, places=3)\n",
    "assert_raises(ValueError, harmonic_mean, [-1, 2])\n",
    "assert_raises(ValueError, harmonic_mean, [])\n"
   ]
  }
 ],
 "metadata": {
  "kernelspec": {
   "display_name": "Python 3 (ipykernel)",
   "language": "python",
   "name": "python3"
  },
  "language_info": {
   "codemirror_mode": {
    "name": "ipython",
    "version": 3
   },
   "file_extension": ".py",
   "mimetype": "text/x-python",
   "name": "python",
   "nbconvert_exporter": "python",
   "pygments_lexer": "ipython3",
   "version": "3.8.16"
  }
 },
 "nbformat": 4,
 "nbformat_minor": 5
}