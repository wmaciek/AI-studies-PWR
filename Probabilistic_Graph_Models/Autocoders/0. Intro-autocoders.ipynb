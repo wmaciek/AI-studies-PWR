{
 "cells": [
  {
   "cell_type": "markdown",
   "id": "ba9dd82d",
   "metadata": {},
   "source": [
    "Przed oddaniem zadania upewnij się, że wszystko działa poprawnie.\n",
    "**Uruchom ponownie kernel** (z paska menu: Kernel$\\rightarrow$Restart) a następnie\n",
    "**wykonaj wszystkie komórki** (z paska menu: Cell$\\rightarrow$Run All).\n",
    "\n",
    "Upewnij się, że wypełniłeś wszystkie pola `TU WPISZ KOD` lub `TU WPISZ ODPOWIEDŹ`, oraz\n",
    "że podałeś swoje imię i nazwisko poniżej:"
   ]
  },
  {
   "cell_type": "code",
   "execution_count": 1,
   "id": "29345448",
   "metadata": {},
   "outputs": [],
   "source": [
    "NAME = \"Maciej Wilhelmi\""
   ]
  },
  {
   "cell_type": "markdown",
   "id": "5cc9ed73",
   "metadata": {},
   "source": [
    "---"
   ]
  },
  {
   "cell_type": "markdown",
   "id": "d41c0314",
   "metadata": {},
   "source": [
    "# 0. Wprowadzenie\n",
    "\n",
    "W trakcie dzisiejszego laboratorium zbadamy różne architektury sieci neuronowych i ich odporność na transformacje (symetrie) danych wejściowych. W tym celu wykorzystamy znane już podejście autokodera, który będzie uczony na zbiorze danych odręcznie pisanych cyfr – MNIST.\n",
    "\n",
    "## 0.1. Zbiór MNIST\n",
    "Przygotowana została klasa `SampledMNISTData`, która pozwoli na używanie: (1) pełnego zbioru (parametr `num_samples_per_class = -1`) lub (2) losowego podzbioru instancji (parametr `num_samples_per_class > 0`).\n",
    "\n",
    "Poniższy fragment kodu wizualizuje losowo wybrane instancje ze zbioru MNIST. Każdy obrazek jest tensorem wymiaru `(1, 28, 28)`, tzn. obrazki są wymiaru 28x28 pikseli oraz są zapisane w skali szarości (1 kanał).\n",
    "\n",
    "## 0.2. Modele\n",
    "\n",
    "Modele oraz zbiór danych zostały zaimplementowane w bibliotece PyTorch, przy czym na etapie uczenia modeli wykorzystany został PyTorch-Lightning, który znacznie upraszcza proces uczenia modeli (wrócimy do tego później).\n",
    "\n",
    "Ze względu czas uczenia poszczególnych modeli oraz ograniczenia czasowe podczas laboratorium, wykorzystywane modele zostały już przeuczone. Kod znajduje się w odpowiednich zeszytach. Właściwa część laboratorium będzie korzystać z tych wyuczonych modeli."
   ]
  },
  {
   "cell_type": "code",
   "execution_count": 2,
   "id": "e4e4e519",
   "metadata": {},
   "outputs": [
    {
     "name": "stdout",
     "output_type": "stream",
     "text": [
      "Downloading http://yann.lecun.com/exdb/mnist/train-images-idx3-ubyte.gz\n",
      "Downloading http://yann.lecun.com/exdb/mnist/train-images-idx3-ubyte.gz to ./data/mnist/MNIST/raw/train-images-idx3-ubyte.gz\n"
     ]
    },
    {
     "name": "stderr",
     "output_type": "stream",
     "text": [
      "100%|███████████████████████████| 9912422/9912422 [00:00<00:00, 21652775.75it/s]\n"
     ]
    },
    {
     "name": "stdout",
     "output_type": "stream",
     "text": [
      "Extracting ./data/mnist/MNIST/raw/train-images-idx3-ubyte.gz to ./data/mnist/MNIST/raw\n",
      "\n",
      "Downloading http://yann.lecun.com/exdb/mnist/train-labels-idx1-ubyte.gz\n",
      "Downloading http://yann.lecun.com/exdb/mnist/train-labels-idx1-ubyte.gz to ./data/mnist/MNIST/raw/train-labels-idx1-ubyte.gz\n"
     ]
    },
    {
     "name": "stderr",
     "output_type": "stream",
     "text": [
      "100%|███████████████████████████████| 28881/28881 [00:00<00:00, 27562160.14it/s]"
     ]
    },
    {
     "name": "stdout",
     "output_type": "stream",
     "text": [
      "Extracting ./data/mnist/MNIST/raw/train-labels-idx1-ubyte.gz to ./data/mnist/MNIST/raw\n",
      "\n",
      "Downloading http://yann.lecun.com/exdb/mnist/t10k-images-idx3-ubyte.gz\n"
     ]
    },
    {
     "name": "stderr",
     "output_type": "stream",
     "text": [
      "\n"
     ]
    },
    {
     "name": "stdout",
     "output_type": "stream",
     "text": [
      "Downloading http://yann.lecun.com/exdb/mnist/t10k-images-idx3-ubyte.gz to ./data/mnist/MNIST/raw/t10k-images-idx3-ubyte.gz\n"
     ]
    },
    {
     "name": "stderr",
     "output_type": "stream",
     "text": [
      "100%|███████████████████████████| 1648877/1648877 [00:00<00:00, 18143993.04it/s]"
     ]
    },
    {
     "name": "stdout",
     "output_type": "stream",
     "text": [
      "Extracting ./data/mnist/MNIST/raw/t10k-images-idx3-ubyte.gz to ./data/mnist/MNIST/raw\n"
     ]
    },
    {
     "name": "stderr",
     "output_type": "stream",
     "text": [
      "\n"
     ]
    },
    {
     "name": "stdout",
     "output_type": "stream",
     "text": [
      "\n",
      "Downloading http://yann.lecun.com/exdb/mnist/t10k-labels-idx1-ubyte.gz\n",
      "Downloading http://yann.lecun.com/exdb/mnist/t10k-labels-idx1-ubyte.gz to ./data/mnist/MNIST/raw/t10k-labels-idx1-ubyte.gz\n"
     ]
    },
    {
     "name": "stderr",
     "output_type": "stream",
     "text": [
      "100%|██████████████████████████████████| 4542/4542 [00:00<00:00, 1491585.40it/s]"
     ]
    },
    {
     "name": "stdout",
     "output_type": "stream",
     "text": [
      "Extracting ./data/mnist/MNIST/raw/t10k-labels-idx1-ubyte.gz to ./data/mnist/MNIST/raw\n",
      "\n"
     ]
    },
    {
     "name": "stderr",
     "output_type": "stream",
     "text": [
      "\n"
     ]
    }
   ],
   "source": [
    "from src.dataset import SampledMNISTData\n",
    "\n",
    "mnist = SampledMNISTData()"
   ]
  },
  {
   "cell_type": "code",
   "execution_count": 3,
   "id": "566854ad",
   "metadata": {},
   "outputs": [
    {
     "data": {
      "image/png": "[encoded data removed]",
      "text/plain": [
       "<Figure size 1500x500 with 10 Axes>"
      ]
     },
     "metadata": {},
     "output_type": "display_data"
    }
   ],
   "source": [
    "import matplotlib.pyplot as plt\n",
    "import numpy as np\n",
    "import torch\n",
    "\n",
    "\n",
    "def visualize_random_sample(dataset, num_samples: int = 10, seed: int = 42):\n",
    "    np.random.seed(seed)\n",
    "    indices = np.random.choice(range(len(dataset)), size=num_samples)\n",
    "    \n",
    "    fig, axs = plt.subplots(ncols=num_samples, figsize=(15, 5))\n",
    "    \n",
    "    axs[0].set(ylabel=\"Original\")\n",
    "    \n",
    "    for i, sample_idx in enumerate(indices):\n",
    "        org_img, label = dataset[sample_idx]\n",
    "        axs[i].imshow(org_img[0], cmap=\"gray\")\n",
    "        axs[i].set(title=f\"Digit: {label}\", xticks=[], yticks=[])\n",
    "            \n",
    "            \n",
    "\n",
    "    \n",
    "visualize_random_sample(dataset=mnist.mnist_test)"
   ]
  }
 ],
 "metadata": {
  "kernelspec": {
   "display_name": "Python 3 (ipykernel)",
   "language": "python",
   "name": "python3"
  },
  "language_info": {
   "codemirror_mode": {
    "name": "ipython",
    "version": 3
   },
   "file_extension": ".py",
   "mimetype": "text/x-python",
   "name": "python",
   "nbconvert_exporter": "python",
   "pygments_lexer": "ipython3",
   "version": "3.8.16"
  }
 },
 "nbformat": 4,
 "nbformat_minor": 5
}
