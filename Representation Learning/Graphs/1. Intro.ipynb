{
 "cells": [
  {
   "cell_type": "markdown",
   "id": "dde8f28b",
   "metadata": {
    "id": "dde8f28b"
   },
   "source": [
    "Przed oddaniem zadania upewnij się, że wszystko działa poprawnie.\n",
    "**Uruchom ponownie kernel** (z paska menu: Kernel$\\rightarrow$Restart) a następnie\n",
    "**wykonaj wszystkie komórki** (z paska menu: Cell$\\rightarrow$Run All).\n",
    "\n",
    "Upewnij się, że wypełniłeś wszystkie pola `TU WPISZ KOD` lub `TU WPISZ ODPOWIEDŹ`, oraz\n",
    "że podałeś swoje imię i nazwisko poniżej:"
   ]
  },
  {
   "cell_type": "code",
   "execution_count": 1,
   "id": "309ee35e",
   "metadata": {
    "executionInfo": {
     "elapsed": 9,
     "status": "ok",
     "timestamp": 1684772750035,
     "user": {
      "displayName": "Maciej Wilhelmi",
      "userId": "17976457361260862912"
     },
     "user_tz": -120
    },
    "id": "309ee35e"
   },
   "outputs": [],
   "source": [
    "NAME = \"Maciej Wilhelmi\""
   ]
  },
  {
   "cell_type": "markdown",
   "id": "c85710be",
   "metadata": {
    "id": "c85710be"
   },
   "source": [
    "---"
   ]
  },
  {
   "cell_type": "markdown",
   "id": "d39eb517",
   "metadata": {
    "id": "d39eb517"
   },
   "source": [
    "# 1. Wprowadzenie do przetwarzania grafów.\n",
    "\n",
    "Na ostatnim wykładzie (Wykład 3) omówiliśmy blueprint geometrycznego uczenia głębokiego oraz różne dziedziny danych, w tym dziedzinę zbiorów i grafów. Przez najbliższe dwa wykłady i laboratoria skupimy się na temacie przetwarzania grafów i uczenia reprezentacji na nich.\n",
    "\n",
    "Grafy opisują obiekty i relacje między obiektami. Możemy je spotkać w wielu dziedzinach, takich jak analiza mediów społecznościowych (użytkownicy portali i interakcje między nimi), chemii obliczeniowej (cząsteczki jako atomy połączone za pomocą wiązań atomowych) czy astronomii (relacje grawitacyjne między ciałami niebieskimi).\n",
    "\n",
    "Grafy nie muszą koniecznie opisywać danych, które mają bezpośrednio strukturę sieciową. Możemy również zastosować metody przetwarzania grafów do opisu tradycyjnych typów danych, np. dla zbioru obrazów możemy obliczyć ich podobieństwa i jeśli to podobieństwo jest większe niż zadana wartość progowa, to tworzymy między takimi obrazami krawędź; jeśli na obrazie znajduje się kilka obiektów, możemy opisać ich względne położenia za pomocą krawędzi o różnych typach (np. \"X znajduje się z lewej strony Y\", \"X przesłania część Y\" itd.).\n",
    "\n",
    "\n",
    "W trakcie obecnego laboratorium, które obejmuje dwa kolejne zajęcia (Laboratorium 3 oraz 4):\n",
    "- zapoznamy się z biblioteką Pytorch-Geometric,\n",
    "- poznamy wybrane tradycyjne metody uczenia reprezentacji dla grafów,\n",
    "- nauczymy się przygotowywać dane i ewaluować modele w 3 popularnych zadaniach grafowych,\n",
    "- poznamy wybrane architektury grafowych sieci neuronowych,\n",
    "- we wszystkich powyższych zagadnieniach spróbujemy zbadać wpływ hiperparametrów metod na ich jakość działania."
   ]
  },
  {
   "cell_type": "markdown",
   "id": "7ae672c5",
   "metadata": {
    "id": "7ae672c5"
   },
   "source": [
    "## 1.1. Graf\n",
    "\n",
    "Grafem $\\mathcal{G}$ nazywamy krotkę $\\mathcal{G} = (\\mathcal{V}, \\mathcal{E})$, gdzie $\\mathcal{V}$ to zbiór wierzchołków, a $\\mathcal{E} \\in \\mathcal{V} \\times \\mathcal{V}$ to zbiór krawędzi łączących pary wierzchołków. \n",
    "\n",
    "Z każdym wierzchołkiem $u$ skojarzony jest wektor atrybutów $\\mathbf{x}_u \\in \\mathbb{R}^{d}$. Cechy wszystkich wierzchołków są opisane przez macierz $\\mathbf{X} \\in \\mathbb{R}^{|\\mathcal{V}| \\times d}$. Podobnie można zdefiniować atrybuty krawędzi oraz atrybuty całego grafu, przy czym dla uproszczenia przyjmiemy, że tylko wierzchołki posiadają atrybuty.\n",
    "\n",
    "W celu opisania połączeń w grafie stosuje się najczęściej (binarną) macierz sąsiedztwa $A \\in \\{0, 1\\}^{|\\mathcal{V}| \\times |\\mathcal{V}|}$, w której: $a_{uv} = 1 \\iff (u, v) \\in \\mathcal{E}$. Macierz ta jest macierzą symetryczną dla grafów nieskierowanych (krawędź nie ma kierunku), natomiast w przypadku grafów skierowanych raczej jest macierzą niesymetryczną.\n",
    "\n",
    "Innym sposobem opisu połączeń jest lista krawędzi (do której jeszcze wrócimy za chwilę). Motywacją do stosowania takiego zapisu jest fakt, że najczęściej graf jest rzadki, tzn. liczba krawędzi jest znacząco mniejsza niż maksymalna liczba możliwych krawędzi -- $|\\mathcal{E}| \\ll |\\mathcal{V}|  \\times |\\mathcal{V}|$."
   ]
  },
  {
   "cell_type": "markdown",
   "id": "edf0b1c2",
   "metadata": {
    "id": "edf0b1c2"
   },
   "source": [
    "## 1.2. PyTorch-Geometric\n",
    "\n",
    "Bibliotek wykorzystywanych do uczenia modeli działających na danych grafowych jest wiele, jednak dwie z nich są bardzo często stosowane: **PyTorch-Geometric** (od niedawna zwany **PyG**; [dokumentacja](https://pytorch-geometric.readthedocs.io/en/latest/)) oraz **Deep Graph Library** (w skrócie DGL; [dokumentacja](https://docs.dgl.ai)). W ramach laboratorium będzie wykorzystywać bibliotekę PyTorch-Geometric, jednak zachęcamy zainteresowanych do zapoznania się również z DGL.\n",
    "\n",
    "PyG zawiera wiele gotowych do użycia: (a) zbiorów danych (grafy jednorelacyjne i heterogeniczne, małe i wielkoskalowe, zbiory z wieloma grafami itp.), (b) warstw stosowanych w grafowych sieciach neuronowych (GNN) oraz (c) modeli sieci neuronowych do przetwarzania grafów.\n",
    "\n",
    "Podstawową strukturą danych opisującą grafy w PyG jest obiekt `Data`. Zawiera on opis całego grafu w następującej postaci:\n",
    "- atrybuty wierzchołków - tensor `data.x`\n",
    "- listę krawędzi - tensor `data.edge_index` w formacie COO (o wymiarach $2 \\times |\\mathcal{E}|$)\n",
    "- (opcjonalnie) klasy wierzchołków / krawędzi / grafu - tensor `data.y` (wymiar zależny od problemu)\n",
    "- (opcjonalnie) atrybuty krawędzi - tensor `data.edge_attr`\n",
    "- pola zawierające informacje o liczbie krawędzi, liczbie wierzchołków oraz wymiarowościach ich atrybutów,\n",
    "- inne pola, które pomijamy w trakcie tego laboratorium.\n",
    "\n",
    "W przypadku problemów, gdzie działamy na zbiorze składającym się z wielu grafów, każdy z nich jest opisany przez osobny obiekt `Data`. \n",
    "\n",
    "Najczęściej, w przypadku małych i średniej wielkości grafów, stosowany jest scenariusz, w którym cały graf jest przetwarzany na raz (ang. *full-batch*). Używanie klasy `DataLoader`, która jest często stosowana w innych dziedzinach uczenia głębokiego, mija się tutaj z celem, ponieważ mamy tylko jeden graf. Będziemy zatem przekazywać do modelu bezpośrednio obiekt `Data`. Wyjątkiem będzie scenariusz z wieloma grafami."
   ]
  },
  {
   "cell_type": "markdown",
   "id": "4bc37938",
   "metadata": {
    "id": "4bc37938"
   },
   "source": [
    "## 1.3. Przykład\n",
    "Zacznijmy od załadowania zbioru `Cora`. Jest to zbiór, w którym wierzchołki opisują publikacje naukowe, natomiast krawędzie opisują cytowania między artykułami. Każdy wierzchołek jest opisany przez binarny wektor worka słów użytych w artykule (ang. *binary bag-of-words*). Każdy artykuł / wierzchołek posiada przypisaną klasę. Zbiór ten można zastosować w tzw. problemie klasyfikacji wierzchołków lub problemie predykcji połączeń. Obecnie zbiór nie jest już stosowany do porównywania metod uczenia reprezentacji na grafach, głównie ze względu na wielkość (mały zbiór) oraz wysoką homofilię (więcej o tym na wykładzie)."
   ]
  },
  {
   "cell_type": "code",
   "execution_count": null,
   "id": "s_G5jrUfR-q6",
   "metadata": {
    "id": "s_G5jrUfR-q6"
   },
   "outputs": [],
   "source": [
    "# !pip install torch_geometric"
   ]
  },
  {
   "cell_type": "code",
   "execution_count": 1,
   "id": "7140d6ad",
   "metadata": {
    "colab": {
     "base_uri": "https://localhost:8080/"
    },
    "executionInfo": {
     "elapsed": 6302,
     "status": "ok",
     "timestamp": 1684772782520,
     "user": {
      "displayName": "Maciej Wilhelmi",
      "userId": "17976457361260862912"
     },
     "user_tz": -120
    },
    "id": "7140d6ad",
    "outputId": "df89f5da-b9bc-4c3d-f988-a2ddcc87fc3f"
   },
   "outputs": [
    {
     "name": "stdout",
     "output_type": "stream",
     "text": [
      "Liczba grafów: 1\n"
     ]
    }
   ],
   "source": [
    "from torch_geometric.datasets import Planetoid\n",
    "\n",
    "dataset = Planetoid(root=\"./data/\", name=\"Cora\")\n",
    "\n",
    "print(f\"Liczba grafów: {len(dataset)}\")\n",
    "\n",
    "data = dataset[0]"
   ]
  },
  {
   "cell_type": "markdown",
   "id": "c1f96afb",
   "metadata": {
    "id": "c1f96afb"
   },
   "source": [
    "## Zadanie 1.1. (1.5 pkt)\n",
    "Zaimplementuj funkcję `print_statistics`, która dla podanego obiektu `Data` wypisze następujące informacje / statystyki o grafie:\n",
    "- liczba wierzchołków\n",
    "- liczba krawędzi\n",
    "- wymiarowość atrybutów wierzchołków\n",
    "- liczba klas wierzchołków\n",
    "- czy graf jest skierowany\n",
    "- gęstość grafu (tzn. liczba krawędzi do maksymalnej możliwej liczby krawędzi; w procentach)"
   ]
  },
  {
   "cell_type": "code",
   "execution_count": 4,
   "id": "c89eff9e",
   "metadata": {
    "colab": {
     "base_uri": "https://localhost:8080/"
    },
    "deletable": false,
    "executionInfo": {
     "elapsed": 248,
     "status": "ok",
     "timestamp": 1684773411861,
     "user": {
      "displayName": "Maciej Wilhelmi",
      "userId": "17976457361260862912"
     },
     "user_tz": -120
    },
    "id": "c89eff9e",
    "nbgrader": {
     "cell_type": "code",
     "checksum": "c90894b98be3b77d96cfcdcf8bfe4f97",
     "grade": true,
     "grade_id": "print_statistics",
     "locked": false,
     "points": 1.5,
     "schema_version": 3,
     "solution": true,
     "task": false
    },
    "outputId": "1a1bb5ff-df83-4bd5-ae0c-e83de85c6792"
   },
   "outputs": [
    {
     "name": "stdout",
     "output_type": "stream",
     "text": [
      "Liczba wierzchołków: 2708\n",
      "Liczba krawędzi: 10556    \n",
      "Wymiarowość atrybutów wierzchołków: 1433\n",
      "Liczba klas wierzchołków: 7    \n",
      "Skierowany? False\n",
      "gęstość: 0.2879999825388415%\n"
     ]
    }
   ],
   "source": [
    "from torch_geometric.data import Data\n",
    "import torch_geometric.utils\n",
    "import torch\n",
    "\n",
    "\n",
    "def print_statistics(data: Data) -> None:\n",
    "    # TU WPISZ KOD\n",
    "    num_nodes = data.num_nodes\n",
    "    num_edges = data.num_edges\n",
    "    num_node_features = data.num_node_features\n",
    "    num_classes = len(torch.unique(data.y))\n",
    "    is_directed = data.is_directed()\n",
    "\n",
    "    max_edges = (num_nodes * (num_nodes - 1)) / 2\n",
    "    density = 100 * num_edges / max_edges\n",
    "\n",
    "\n",
    "    print(f'Liczba wierzchołków: {num_nodes}\\nLiczba krawędzi: {num_edges}\\\n",
    "    \\nWymiarowość atrybutów wierzchołków: {num_node_features}\\nLiczba klas wierzchołków: {num_classes}\\\n",
    "    \\nSkierowany? {is_directed}\\ngęstość: {density}%')\n",
    "        \n",
    "    \n",
    "    \n",
    "print_statistics(data=data)"
   ]
  }
 ],
 "metadata": {
  "colab": {
   "provenance": []
  },
  "kernelspec": {
   "display_name": "Python 3 (ipykernel)",
   "language": "python",
   "name": "python3"
  },
  "language_info": {
   "codemirror_mode": {
    "name": "ipython",
    "version": 3
   },
   "file_extension": ".py",
   "mimetype": "text/x-python",
   "name": "python",
   "nbconvert_exporter": "python",
   "pygments_lexer": "ipython3",
   "version": "3.8.16"
  }
 },
 "nbformat": 4,
 "nbformat_minor": 5
}
