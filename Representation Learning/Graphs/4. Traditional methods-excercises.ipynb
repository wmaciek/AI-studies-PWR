{
 "cells": [
  {
   "cell_type": "markdown",
   "id": "aa460fe9",
   "metadata": {},
   "source": [
    "Przed oddaniem zadania upewnij się, że wszystko działa poprawnie.\n",
    "**Uruchom ponownie kernel** (z paska menu: Kernel$\\rightarrow$Restart) a następnie\n",
    "**wykonaj wszystkie komórki** (z paska menu: Cell$\\rightarrow$Run All).\n",
    "\n",
    "Upewnij się, że wypełniłeś wszystkie pola `TU WPISZ KOD` lub `TU WPISZ ODPOWIEDŹ`, oraz\n",
    "że podałeś swoje imię i nazwisko poniżej:"
   ]
  },
  {
   "cell_type": "code",
   "execution_count": null,
   "id": "61e15a2c",
   "metadata": {},
   "outputs": [],
   "source": [
    "NAME = \"Maciej WIlhelmi\""
   ]
  },
  {
   "cell_type": "markdown",
   "id": "6d47b5b5",
   "metadata": {},
   "source": [
    "---"
   ]
  },
  {
   "cell_type": "markdown",
   "id": "d39eb517",
   "metadata": {},
   "source": [
    "# 4. Metody tradycyjne - zadania do rozwiązania"
   ]
  },
  {
   "cell_type": "code",
   "execution_count": 37,
   "id": "3b570a6a",
   "metadata": {},
   "outputs": [
    {
     "name": "stdout",
     "output_type": "stream",
     "text": [
      "{'train_auc': 0.7447835710684279, 'test_auc': 0.5119679007496767}\n",
      "{'train_auc': 0.5722406442444339, 'test_auc': 0.5465309022022259}\n",
      "{'train_auc': 0.9529060072208523, 'test_auc': 0.5259835748704671}\n"
     ]
    }
   ],
   "source": [
    "%run \"2. Zadania w przetwarzaniu grafów.ipynb\""
   ]
  },
  {
   "cell_type": "markdown",
   "id": "88ceca18",
   "metadata": {},
   "source": [
    "### Zadanie 4.1. (2.5 pkt)\n",
    "W poprzednim zeszycie zbadaliśmy jakość reprezentacji otrzymywanych za pomocą metody DeepWalk. W tym zadaniu zbadaj wpływ parametrów `p` i `q` na jakość działania metody Node2vec ($p \\neq 1$ oraz $q \\neq 1$):\n",
    "- wybierz kilka (min. 4) wartości dla każdego parametru\n",
    "- podsumuj w tabelce jakość wyznaczonych reprezentacji w zadaniu klasyfikacji wierzchołków na zbiorze Cora\n",
    "- pamiętaj, aby eksperyment dla każdego pojedynczego zestawu parametrów powtórzyć kilkukrotnie (np. 5 razy)\n",
    "- wyniki podaj w postaci: \"średnie testowe AUC $\\pm$ odchylenie standardowe\".\n",
    "\n",
    "Który zestaw parametrów zadziałał najlepiej?"
   ]
  },
  {
   "cell_type": "code",
   "execution_count": 2,
   "id": "034e6885",
   "metadata": {},
   "outputs": [],
   "source": [
    "import pandas as pd\n",
    "from random_walk_model import get_representations\n",
    "from torch_geometric.datasets import Planetoid\n",
    "from random_walk_model import train_random_walk_model\n",
    "import numpy as np\n",
    "from prettytable import PrettyTable"
   ]
  },
  {
   "cell_type": "code",
   "execution_count": null,
   "id": "6e797a91",
   "metadata": {},
   "outputs": [],
   "source": [
    "\n",
    "p_arr = [1]\n",
    "q_arr = [1]\n",
    "\n",
    "for p in p_arr:\n",
    "    for q in q_arr:\n",
    "        deepwalk, train_losses = train_random_walk_model(edge_index=data.edge_index, p=p, q=q)\n",
    "        z = get_representations(deepwalk)\n",
    "        nc_metrics = evaluate_node_classification(data=data, z=z)\n",
    "        \n",
    "        train_auc.append(nc_metrics['train_auc'])\n",
    "        test_auc.append(nc_metrics['test_auc'])\n",
    "        \n",
    "        \n",
    "        print(f\"-- Node classification -- for p={p} and q={q}\")\n",
    "        print(f\"Train AUC: {nc_metrics['train_auc']} [%]\")\n",
    "        print(f\"Test AUC: {nc_metrics['test_auc'] * 100.:.2f} [%]\")"
   ]
  },
  {
   "cell_type": "code",
   "execution_count": 6,
   "id": "bd5dca94",
   "metadata": {},
   "outputs": [
    {
     "name": "stdout",
     "output_type": "stream",
     "text": [
      "-- Node classification -- for p=1 and q=1\n",
      "Train AUC: 97.98 [%]\n",
      "Test AUC: 93.72 [%]\n"
     ]
    }
   ],
   "source": [
    "nc_metrics = evaluate_node_classification(data=data, z=z)\n",
    "\n",
    "print(f\"-- Node classification -- for p=1 and q=1\")\n",
    "print(f\"Train AUC: {nc_metrics['train_auc'] * 100.:.2f} [%]\")\n",
    "print(f\"Test AUC: {nc_metrics['test_auc'] * 100.:.2f} [%]\")"
   ]
  },
  {
   "cell_type": "code",
   "execution_count": 6,
   "id": "8acffeb9",
   "metadata": {
    "deletable": false,
    "nbgrader": {
     "cell_type": "code",
     "checksum": "89fbffb2a4eed4230ba3c51224aa6b0e",
     "grade": true,
     "grade_id": "explore_node2vec_hyperparams",
     "locked": false,
     "points": 2.5,
     "schema_version": 3,
     "solution": true,
     "task": false
    }
   },
   "outputs": [],
   "source": [
    "# TU WPISZ KOD\n",
    "\n",
    "data = Planetoid(root=\"./data/\", name=\"Cora\")[0]"
   ]
  },
  {
   "cell_type": "code",
   "execution_count": 12,
   "id": "055c74bf",
   "metadata": {},
   "outputs": [
    {
     "name": "stdout",
     "output_type": "stream",
     "text": [
      "+------------+-------------------+-------------------+\n",
      "|   [p,q]    |   Train AUC [%]   |    Test AUC [%]   |\n",
      "+------------+-------------------+-------------------+\n",
      "| (0.5, 1.5) | 80.10249999999999 |      62.6315      |\n",
      "| (0.5, 0.5) |       81.593      |       63.449      |\n",
      "|  (2, 1.5)  |      81.9785      | 64.00450000000001 |\n",
      "|  (2, 0.5)  |      81.8545      |      64.3125      |\n",
      "+------------+-------------------+-------------------+\n"
     ]
    }
   ],
   "source": [
    "p = [0.5, 2]\n",
    "q = [1.5, 0.5]\n",
    "\n",
    "means = {}\n",
    "\n",
    "for p_v in p:\n",
    "  for q_v in q:\n",
    "    mean_train_auc = []\n",
    "    mean_test_auc = []\n",
    "    for i in range(2):\n",
    "      lp_deepwalk, _ = train_random_walk_model(edge_index=data.edge_index, p=p_v, q=q_v, num_epochs=10)\n",
    "\n",
    "      z = get_representations(lp_deepwalk)\n",
    "      nc_metrics = evaluate_node_classification(data=data, z=z)\n",
    "    \n",
    "      mean_train_auc.append(np.round(nc_metrics['train_auc'] * 100, 3))\n",
    "      mean_test_auc.append(np.round(nc_metrics['test_auc'] * 100, 3))\n",
    "    means[p_v,q_v] = [np.mean(mean_train_auc), np.mean(mean_test_auc)]\n",
    "\n",
    "\n",
    "tabel = PrettyTable()\n",
    "tabel.field_names = ['[p,q]', 'Train AUC [%]', 'Test AUC [%]']\n",
    "\n",
    "for key, value in means.items():\n",
    "    tabel.add_row([key, value[0], value[1]])\n",
    "\n",
    "print(tabel)"
   ]
  },
  {
   "cell_type": "markdown",
   "id": "2c9eb3f7",
   "metadata": {},
   "source": [
    "Najlepiej z przebadanych zestawów działa ten, w którym p=2 > q=0.5, jednak nie zbadałem dużej ich ilości ze względu na długość uczenia, również zmniejszyłem ilość epok ze 100 na 10 aby otrzymać wyniki i uśredniłem je po dwóch przejściach dla tych samych parametrów."
   ]
  },
  {
   "cell_type": "markdown",
   "id": "f7c06d06",
   "metadata": {},
   "source": [
    "### Zadanie 4.2. (2 pkt)\n",
    "Korzystając z wyznaczonych najlepszych parametrów dla Node2vec'a, porównaj jakość reprezentacji krawędzi otrzymywanych za pomocą różnych transformacji:\n",
    "- wykorzystaj zbiór Cora\n",
    "- zbadaj 4 transformacje: \"average\", \"hadamard\", \"L1\" oraz \"L2\"\n",
    "- każdy eksperyment powtórz kilkukrotnie (np. 5 razy)\n",
    "- podsumuj wyniki w tabelce, zapisując wynik pojedynczego eksperymentu w postaci: \"średnie testowe AUC $\\pm$ odchylenie standardowe\"\n",
    "\n",
    "Która transformacja działa najlepiej?"
   ]
  },
  {
   "cell_type": "code",
   "execution_count": 14,
   "id": "3e3ee1b1",
   "metadata": {
    "deletable": false,
    "nbgrader": {
     "cell_type": "code",
     "checksum": "29c5ced0a387171fb2db865bac41b577",
     "grade": true,
     "grade_id": "compare_edge_embedding_transformations",
     "locked": false,
     "points": 2,
     "schema_version": 3,
     "solution": true,
     "task": false
    }
   },
   "outputs": [
    {
     "name": "stdout",
     "output_type": "stream",
     "text": [
      "Liczba parametrów modelu: 346,624\n"
     ]
    },
    {
     "data": {
      "application/vnd.jupyter.widget-view+json": {
       "model_id": "7cfff41c7bfc48f3b881767eb3ef3721",
       "version_major": 2,
       "version_minor": 0
      },
      "text/plain": [
       "Epochs:   0%|          | 0/10 [00:00<?, ?it/s]"
      ]
     },
     "metadata": {},
     "output_type": "display_data"
    },
    {
     "name": "stdout",
     "output_type": "stream",
     "text": [
      "Liczba parametrów modelu: 346,624\n"
     ]
    },
    {
     "data": {
      "application/vnd.jupyter.widget-view+json": {
       "model_id": "7b82fd49a11446989bdc235f9671b4bc",
       "version_major": 2,
       "version_minor": 0
      },
      "text/plain": [
       "Epochs:   0%|          | 0/10 [00:00<?, ?it/s]"
      ]
     },
     "metadata": {},
     "output_type": "display_data"
    },
    {
     "name": "stdout",
     "output_type": "stream",
     "text": [
      "Liczba parametrów modelu: 346,624\n"
     ]
    },
    {
     "data": {
      "application/vnd.jupyter.widget-view+json": {
       "model_id": "5e4cba212cb744a485941ea308c2280f",
       "version_major": 2,
       "version_minor": 0
      },
      "text/plain": [
       "Epochs:   0%|          | 0/10 [00:00<?, ?it/s]"
      ]
     },
     "metadata": {},
     "output_type": "display_data"
    },
    {
     "name": "stdout",
     "output_type": "stream",
     "text": [
      "Liczba parametrów modelu: 346,624\n"
     ]
    },
    {
     "data": {
      "application/vnd.jupyter.widget-view+json": {
       "model_id": "162f58243077496d9152884257abec28",
       "version_major": 2,
       "version_minor": 0
      },
      "text/plain": [
       "Epochs:   0%|          | 0/10 [00:00<?, ?it/s]"
      ]
     },
     "metadata": {},
     "output_type": "display_data"
    },
    {
     "name": "stdout",
     "output_type": "stream",
     "text": [
      "Liczba parametrów modelu: 346,624\n"
     ]
    },
    {
     "data": {
      "application/vnd.jupyter.widget-view+json": {
       "model_id": "bf97047e450942db94b1a85273e86fbb",
       "version_major": 2,
       "version_minor": 0
      },
      "text/plain": [
       "Epochs:   0%|          | 0/10 [00:00<?, ?it/s]"
      ]
     },
     "metadata": {},
     "output_type": "display_data"
    },
    {
     "name": "stdout",
     "output_type": "stream",
     "text": [
      "Liczba parametrów modelu: 346,624\n"
     ]
    },
    {
     "data": {
      "application/vnd.jupyter.widget-view+json": {
       "model_id": "b53c9837771e4986a21ddad6fe023270",
       "version_major": 2,
       "version_minor": 0
      },
      "text/plain": [
       "Epochs:   0%|          | 0/10 [00:00<?, ?it/s]"
      ]
     },
     "metadata": {},
     "output_type": "display_data"
    },
    {
     "name": "stdout",
     "output_type": "stream",
     "text": [
      "Liczba parametrów modelu: 346,624\n"
     ]
    },
    {
     "data": {
      "application/vnd.jupyter.widget-view+json": {
       "model_id": "db49e33660584ab7bf9d49bd2e4ceb80",
       "version_major": 2,
       "version_minor": 0
      },
      "text/plain": [
       "Epochs:   0%|          | 0/10 [00:00<?, ?it/s]"
      ]
     },
     "metadata": {},
     "output_type": "display_data"
    },
    {
     "name": "stdout",
     "output_type": "stream",
     "text": [
      "Liczba parametrów modelu: 346,624\n"
     ]
    },
    {
     "data": {
      "application/vnd.jupyter.widget-view+json": {
       "model_id": "5ea81f534be84d9db5a4ce942700dbeb",
       "version_major": 2,
       "version_minor": 0
      },
      "text/plain": [
       "Epochs:   0%|          | 0/10 [00:00<?, ?it/s]"
      ]
     },
     "metadata": {},
     "output_type": "display_data"
    },
    {
     "name": "stdout",
     "output_type": "stream",
     "text": [
      "+----------------+-------------------+--------------------+\n",
      "| transformation |   Train AUC [%]   |    Test AUC [%]    |\n",
      "+----------------+-------------------+--------------------+\n",
      "|    average     |      70.40575     | 60.764500000000005 |\n",
      "|    hadamard    | 73.05166666666666 | 66.27533333333334  |\n",
      "|       L1       | 70.89387500000001 |      65.4965       |\n",
      "|       L2       | 69.51240000000001 |      64.8409       |\n",
      "+----------------+-------------------+--------------------+\n"
     ]
    }
   ],
   "source": [
    "# TU WPISZ KOD\n",
    "lp_dataset = prepare_train_test_sets(edge_index=data.edge_index)\n",
    "\n",
    "transformations = ['average', 'hadamard', 'L1', 'L2']\n",
    "\n",
    "means = {}\n",
    "\n",
    "for transform in transformations:\n",
    "    for i in range(2):\n",
    "      lp_deepwalk, _ = train_random_walk_model(edge_index=data.edge_index, p=2, q=0.5, num_epochs=10)\n",
    "\n",
    "      lp_z = get_representations(lp_deepwalk)\n",
    "        \n",
    "      lp_metrics = evaluate_link_prediction(\n",
    "          train_edges=lp_dataset[\"train_edges\"],\n",
    "            y_train=lp_dataset[\"y_train\"],\n",
    "            test_edges=lp_dataset[\"test_edges\"],\n",
    "            y_test=lp_dataset[\"y_test\"],\n",
    "            transformation_name=transform,\n",
    "            z=lp_z,\n",
    "      )\n",
    "\n",
    "      mean_train_auc.append(np.round(lp_metrics['train_auc'] * 100, 3))\n",
    "      mean_test_auc.append(np.round(lp_metrics['test_auc'] * 100, 3))\n",
    "    means[transform] = [np.mean(mean_train_auc), np.mean(mean_test_auc)]\n",
    "\n",
    "\n",
    "tabel = PrettyTable()\n",
    "tabel.field_names = ['transformation', 'Train AUC [%]', 'Test AUC [%]']\n",
    "\n",
    "for key, value in means.items():\n",
    "    tabel.add_row([key, value[0], value[1]])\n",
    "\n",
    "print(tabel)"
   ]
  },
  {
   "cell_type": "markdown",
   "id": "eb3358d8",
   "metadata": {},
   "source": [
    "Dla parametrów z poprzedniego zadania sprawdziłem sposoby przekształcania reprezentacji wierzchołków na krawędzie. Tutaj dosyć wyraźnie wygrał 'hadamard', który mnoży reprezentacje wektorów, tworząc reprezentacje krawędzi."
   ]
  },
  {
   "cell_type": "markdown",
   "id": "eb7f9929",
   "metadata": {},
   "source": [
    "### Zadanie 4.3. (1.5 pkt)\n",
    "Korzystając z wyznaczonych najlepszych parametrów dla Node2vec'a, porównaj jakość reprezentacji grafów otrzymywanych za pomocą różnych transformacji:\n",
    "- wykorzystaj zbiór ENZYMES (może być podzbiór wykorzystany w poprzednim zeszycie)\n",
    "- zbadaj 3 transformacje: \"average\", \"max_pooling\", \"min_pooling\"\n",
    "- każdy eksperyment powtórz kilkukrotnie (np. 5 razy)\n",
    "- podsumuj wyniki w tabelce, zapisując wynik pojedynczego eksperymentu w postaci: \"średnie testowe AUC $\\pm$ odchylenie standardowe\"\n",
    "\n",
    "Która transformacja działa najlepiej?"
   ]
  },
  {
   "cell_type": "code",
   "execution_count": 5,
   "id": "19dbe97c",
   "metadata": {},
   "outputs": [
    {
     "name": "stdout",
     "output_type": "stream",
     "text": [
      "Liczba grafów: 600\n",
      "Ograniczymy liczbę grafów do 60\n"
     ]
    }
   ],
   "source": [
    "from torch_geometric.datasets import TUDataset\n",
    "from tqdm.auto import tqdm\n",
    "\n",
    "enzymes = TUDataset(root=\"./data\", name=\"ENZYMES\")\n",
    "\n",
    "print(f\"Liczba grafów: {len(enzymes)}\")\n",
    "\n",
    "enzymes_subset, _ = train_test_split(\n",
    "    [e for e in enzymes], \n",
    "    train_size=0.1, \n",
    "    stratify=[e.y.item() for e in enzymes],\n",
    ")\n",
    "print(f\"Ograniczymy liczbę grafów do {len(enzymes_subset)}\")"
   ]
  },
  {
   "cell_type": "code",
   "execution_count": 9,
   "id": "6427acdb",
   "metadata": {
    "deletable": false,
    "nbgrader": {
     "cell_type": "code",
     "checksum": "f0a9fc4384497c2cb338e24edd06275b",
     "grade": true,
     "grade_id": "compare_graph_pooling_transformations",
     "locked": false,
     "points": 1.5,
     "schema_version": 3,
     "solution": true,
     "task": false
    }
   },
   "outputs": [
    {
     "data": {
      "application/vnd.jupyter.widget-view+json": {
       "model_id": "144558bfbddd43a786fd2f2c0a9e979c",
       "version_major": 2,
       "version_minor": 0
      },
      "text/plain": [
       "Embedding graphs:   0%|          | 0/60 [00:00<?, ?it/s]"
      ]
     },
     "metadata": {},
     "output_type": "display_data"
    }
   ],
   "source": [
    "# TU WPISZ KOD\n",
    "\n",
    "z = []\n",
    "\n",
    "for enzyme in tqdm(enzymes_subset, desc=\"Embedding graphs\"):\n",
    "    model, _ = train_random_walk_model(\n",
    "        edge_index=enzyme.edge_index,\n",
    "        p=2,\n",
    "        q=0.5,\n",
    "        num_epochs=5,\n",
    "        quiet=True,\n",
    "    )\n",
    "    \n",
    "    z.append(get_representations(model))\n",
    "        \n",
    "        \n",
    "y = torch.tensor([e.y for e in enzymes_subset])"
   ]
  },
  {
   "cell_type": "code",
   "execution_count": 16,
   "id": "688638ce",
   "metadata": {},
   "outputs": [
    {
     "data": {
      "text/plain": [
       "60"
      ]
     },
     "execution_count": 16,
     "metadata": {},
     "output_type": "execute_result"
    }
   ],
   "source": [
    "len(y)"
   ]
  },
  {
   "cell_type": "code",
   "execution_count": 38,
   "id": "1c4ef9a5",
   "metadata": {},
   "outputs": [
    {
     "name": "stdout",
     "output_type": "stream",
     "text": [
      "+----------------+---------------+--------------+\n",
      "| transformation | Train AUC [%] | Test AUC [%] |\n",
      "+----------------+---------------+--------------+\n",
      "|    average     |     100.0     |    49.164    |\n",
      "|  max_pooling   |     100.0     |    48.117    |\n",
      "|  min_pooling   |     100.0     |    46.713    |\n",
      "+----------------+---------------+--------------+\n"
     ]
    }
   ],
   "source": [
    "transformations = [\"average\", \"max_pooling\", \"min_pooling\"]\n",
    "\n",
    "means = {}\n",
    "mean_train_auc = []\n",
    "mean_test_auc = []\n",
    "\n",
    "for transform in transformations:\n",
    "    for i in range(10):\n",
    "        gc_metrics = evaluate_graph_classification(z, y, transformation_name=transform)\n",
    "\n",
    "        mean_train_auc.append(gc_metrics['train_auc'] * 100)\n",
    "        mean_test_auc.append(gc_metrics['test_auc'] * 100)\n",
    "        \n",
    "    means[transform] = [np.round(np.mean(mean_train_auc),3)\n",
    "                        , np.round(np.mean(mean_test_auc),3)]\n",
    "\n",
    "\n",
    "tabel = PrettyTable()\n",
    "tabel.field_names = ['transformation', 'Train AUC [%]', 'Test AUC [%]']\n",
    "\n",
    "for key, value in means.items():\n",
    "    tabel.add_row([key, value[0], value[1]])\n",
    "\n",
    "print(tabel)"
   ]
  },
  {
   "cell_type": "markdown",
   "id": "ebc45e2e",
   "metadata": {},
   "source": [
    "najlepiej zadziałała transformacja 'average'."
   ]
  }
 ],
 "metadata": {
  "kernelspec": {
   "display_name": "Python 3 (ipykernel)",
   "language": "python",
   "name": "python3"
  },
  "language_info": {
   "codemirror_mode": {
    "name": "ipython",
    "version": 3
   },
   "file_extension": ".py",
   "mimetype": "text/x-python",
   "name": "python",
   "nbconvert_exporter": "python",
   "pygments_lexer": "ipython3",
   "version": "3.8.16"
  }
 },
 "nbformat": 4,
 "nbformat_minor": 5
}
