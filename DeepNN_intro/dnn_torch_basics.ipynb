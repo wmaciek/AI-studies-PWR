{
  "nbformat": 4,
  "nbformat_minor": 0,
  "metadata": {
    "colab": {
      "provenance": [],
      "collapsed_sections": [
        "er1hgYZsm5-6"
      ]
    },
    "kernelspec": {
      "name": "python3",
      "display_name": "Python 3"
    },
    "accelerator": "GPU"
  },
  "cells": [
    {
      "cell_type": "markdown",
      "source": [
        "Link do notatnika: https://colab.research.google.com/drive/1erXDDs0lcd5t-GF4CP28ZTNg4K7Yt3hj?usp=sharing\n",
        "\n",
        "---\n"
      ],
      "metadata": {
        "id": "cNfLIfvaD052"
      }
    },
    {
      "cell_type": "markdown",
      "metadata": {
        "id": "l1koAEgYAJr-"
      },
      "source": [
        "# Wstęp\n",
        "\n",
        "Na poprzednich zajęciach nauczyłeś(aś) się jak skonstruować od zera podstawową komórkę sieci neuronowej - Perceptron. Na tych zajęciach przejdziemy już do wykorzystywania bardziej zaawansowanych funkcji PyTorcha, które przydają się na codzień do konstruowania sieci neuronowych.\n",
        "\n",
        "## Cel ćwiczenia\n",
        "\n",
        "Celem ćwiczenia jest zapoznanie z podstawowymi funkcjami biblioteki PyTorch do tworzenia i uczenia sieci neuronowych a w szczególności z:\n",
        "*   Automatycznym liczeniem gradientów i grafem obliczeniowym (autograd)\n",
        "*   Algorytmami off-line, on-line a także pojęciem mini-batch\n",
        "*   Algorytmami optymalizacji sieci neuronowych\n",
        "*   Liczeniem wartości fuknkcji straty\n",
        "*   Przekształceniami nieliniowymi\n",
        "*   Modułem `torch.nn`\n",
        "\n",
        "## Warunki zaliczenia\n",
        "\n",
        "W celu zaliczenia ćwiczeń należy uzupełnić wszystkie brakujące elementu kodu, wykonać wszystkie polecenia i wyuczyć model.\n"
      ]
    },
    {
      "cell_type": "code",
      "metadata": {
        "id": "kUJ1zQQXs7ip"
      },
      "source": [
        "import math\n",
        "import warnings\n",
        "from typing import Tuple\n",
        "\n",
        "import torch\n",
        "import torch.nn.functional as F\n",
        "from sklearn.model_selection import train_test_split\n",
        "from sklearn.datasets import load_iris\n",
        "from torch import nn\n",
        "from torch import optim\n",
        "from torch.utils.data import TensorDataset, DataLoader, RandomSampler\n",
        "\n",
        "assert torch.cuda.is_available(), \"Uruchom środowisko wykonawcze na GPU\""
      ],
      "execution_count": null,
      "outputs": []
    },
    {
      "cell_type": "markdown",
      "metadata": {
        "id": "er1hgYZsm5-6"
      },
      "source": [
        "# Autograd - automatyczne liczenie gradientów\n",
        "\n",
        "Na poprzednich laboratoriach implementowałeś(aś) funkcję wstecznej propagacji. W tym celu liczyłaś(eś) pochodne (gradienty). Przyjrzyjmy się najpierw funkcji\n",
        "$$f(x, y) = 3x^2 + y^3$$\n",
        "Możemy tę funkcję różniczkować po dwóch zmiennych: $x$ i $y$:\n",
        "$$\\frac{\\partial f}{\\partial x} = 6x$$\n",
        "\n",
        "$$\\frac{\\partial f}{\\partial y} = 3y^2$$\n",
        "\n",
        "Jeżeli funkcję $f(x,y)$ złożymy z funkcją $g(x) = x^2$ tworząc funkcję $h(x, y) = f(g(x), y)$ to z **reguły łańcuchowej** pochodna takiej funkcji wyniesie:\n",
        "\n",
        "$$\\frac{\\partial h}{\\partial x} = \\frac{\\partial f}{\\partial g} \\frac{\\partial g}{\\partial x} = (6 (x^2)) (2 x) = 12 x^3$$\n",
        "\n",
        "Tego typu obliczenia przy wielu warstwach sieci (a więc przy wielu złożeniach funkcji liniowych i nieliniowych) stają się mocno skomplikowane. Na szczęście PyToch dostarcza `torch.autograd` - silnik do zaumatyzowanego liczenia gradientów. Jak on działa? Najpierw zdefiniujmy wektory $\\mathbf x$ i $\\mathbf y$."
      ]
    },
    {
      "cell_type": "code",
      "metadata": {
        "id": "SRkbe7sPm5dL"
      },
      "source": [
        "x = torch.tensor([0., 1., 5.], requires_grad=True)\n",
        "y = torch.tensor([8., 2., 4.], requires_grad=True)"
      ],
      "execution_count": null,
      "outputs": []
    },
    {
      "cell_type": "markdown",
      "metadata": {
        "id": "Z6L2Lx63vTOn"
      },
      "source": [
        "Zauważ, że tworząc tensor przekazaliśmy parametr `requires_grad=True`. Sprawia on, że wszystkie operacje dokonane na tym tensorze są śledzone i tensor wynikowy będzie \"pamiętał\" przy użyciu jakiej operacji powstał. Policzmy naszą funkcję $f( \\mathbf x, \\mathbf y)$ dla tych tensorów."
      ]
    },
    {
      "cell_type": "code",
      "metadata": {
        "id": "_FE9yAWMvR4Q",
        "outputId": "459bc013-e8a5-41d4-ce8c-8db3ce7bdbb0",
        "colab": {
          "base_uri": "https://localhost:8080/"
        }
      },
      "source": [
        "z = 3*x**2 + y**3\n",
        "z"
      ],
      "execution_count": null,
      "outputs": [
        {
          "output_type": "execute_result",
          "data": {
            "text/plain": [
              "tensor([512.,  11., 139.], grad_fn=<AddBackward0>)"
            ]
          },
          "metadata": {},
          "execution_count": 4
        }
      ]
    },
    {
      "cell_type": "markdown",
      "metadata": {
        "id": "C4aNNpt8xqpk"
      },
      "source": [
        "Jak widać uzyskany tensor ma także zapisany parametr `grad_fn=<AddBackward0>`, czyli że powstał z dodania dwóch tensorów - dodawanie jest ostatnią operacją, która zostałą wykonana, żeby otrzymać ten tensor. Dokonajmy propagacji wstecznej w celu policzenia gradientów.\n"
      ]
    },
    {
      "cell_type": "code",
      "metadata": {
        "id": "b1_vOt2yxqHb",
        "outputId": "9c08a935-fe67-41c8-f5fd-1a9736987e64",
        "colab": {
          "base_uri": "https://localhost:8080/"
        }
      },
      "source": [
        "grad_tensors = torch.tensor([1., 1., 1.])\n",
        "z.backward(grad_tensors)\n",
        "print(x.grad == 6*x)\n",
        "print(y.grad == 3*y**2)"
      ],
      "execution_count": null,
      "outputs": [
        {
          "output_type": "stream",
          "name": "stdout",
          "text": [
            "tensor([True, True, True])\n",
            "tensor([True, True, True])\n"
          ]
        }
      ]
    },
    {
      "cell_type": "markdown",
      "metadata": {
        "id": "kqqmScaJQoZ3"
      },
      "source": [
        "Na razie nie przejmuj się tym za co odpowiada `grad_tensors`. Policzmy wartość funkcji $h$.\n",
        "\n"
      ]
    },
    {
      "cell_type": "code",
      "metadata": {
        "id": "8OtdWj0Y7XGa",
        "outputId": "3ab0e4f7-d739-434c-a465-3c9bedf13ae1",
        "colab": {
          "base_uri": "https://localhost:8080/"
        }
      },
      "source": [
        "a = 3*(x**2)**2 + y**3\n",
        "a.backward(grad_tensors)\n",
        "print(x.grad)\n",
        "print(12*(x**3))\n",
        "print(x.grad == 12*(x**3))"
      ],
      "execution_count": null,
      "outputs": [
        {
          "output_type": "stream",
          "name": "stdout",
          "text": [
            "tensor([   0.,   18., 1530.])\n",
            "tensor([   0.,   12., 1500.], grad_fn=<MulBackward0>)\n",
            "tensor([ True, False, False])\n"
          ]
        }
      ]
    },
    {
      "cell_type": "markdown",
      "metadata": {
        "id": "tgIDyhN4RanY"
      },
      "source": [
        "Nie zgadzają nam się wartości. Wynika to z kolejnej właśności pytorchowego autograda - gradienty w tensorach są **akumulowane**. Jak wykonasz powyższą komórkę wielekrotnie to zobaczysz że wartości `x.grad` rosną dokładnie o $12x_i^3$ po każdym wykonaniu. Akumulacja gradientów jest przydatna w niektórych architekturach sieci neuronowych. Dlatego też trzeba *explicite* wyzerować gradienty."
      ]
    },
    {
      "cell_type": "code",
      "metadata": {
        "id": "83kl2IWHO491",
        "outputId": "e703a940-e54c-494b-bb12-f67d7e076c3a",
        "colab": {
          "base_uri": "https://localhost:8080/"
        }
      },
      "source": [
        "x.grad.data.zero_()\n",
        "a = 3*(x**2)**2 + y**3\n",
        "a.backward(grad_tensors)\n",
        "print(x.grad)\n",
        "print(12*(x**3))\n",
        "assert (x.grad == 12*(x**3)).all()"
      ],
      "execution_count": null,
      "outputs": [
        {
          "output_type": "stream",
          "name": "stdout",
          "text": [
            "tensor([   0.,   12., 1500.])\n",
            "tensor([   0.,   12., 1500.], grad_fn=<MulBackward0>)\n"
          ]
        }
      ]
    },
    {
      "cell_type": "markdown",
      "metadata": {
        "id": "nZ4DG0kmaTzl"
      },
      "source": [
        "Ok, powróćmy teraz do `grad_tensors` - co to jest? Otóż autograd jest silnikiem, który służy do wyliczania **macierzy Jacobiego**, tj. pochodnych pierwszego rzędu funkcji, których składowymi są funkcje rzeczywiste.\n",
        "\n",
        "$$f = (f_1, f_2, \\ldots, f_m)$$\n",
        "$$\\mathbf x = (x_1, x_2, \\ldots, x_n)$$\n",
        "\n",
        "$$\\mathbf J = \\begin{bmatrix}\n",
        " \\dfrac{\\partial f_1}{\\partial x_1} & \\cdots & \\dfrac{\\partial f_1}{\\partial x_n} \\\\\n",
        " \\vdots & \\ddots & \\vdots \\\\\n",
        " \\dfrac{\\partial f_m}{\\partial x_1} & \\cdots & \\dfrac{\\partial f_m}{\\partial x_n}\n",
        "\\end{bmatrix}$$\n",
        "\n",
        "Konkretnie patrząc na przykład z tensorem $a$ macierz Jacobiego wygląda tak:\n",
        "$$\\mathbf J_a = \\begin{bmatrix}\n",
        " \\dfrac{\\partial a_1}{\\partial x_1} & \\dfrac{\\partial a_1}{\\partial x_2} & \\dfrac{\\partial a_1}{\\partial x_3} \\\\\n",
        "  \\dfrac{\\partial a_2}{\\partial x_1} & \\dfrac{\\partial a_2}{\\partial x_2} & \\dfrac{\\partial a_2}{\\partial x_3} \\\\\n",
        "   \\dfrac{\\partial a_3}{\\partial x_1} & \\dfrac{\\partial a_3}{\\partial x_2} & \\dfrac{\\partial a_3}{\\partial x_3} \\\\\n",
        "\\end{bmatrix}$$\n",
        "\n",
        "Następnie `grad_tensors` ($\\mathbf z$) mnożymy przez transpozycję tej macierzy (ang. *Jacobian-vector product*).\n",
        "\n",
        "$$\\mathbf z \\mathbf{J}_a^T = \\begin{bmatrix} 1 & 1 & 1 \\end{bmatrix}\n",
        "\n",
        "\\begin{bmatrix}\n",
        " \\dfrac{\\partial a_1}{\\partial x_1} & \\dfrac{\\partial a_2}{\\partial x_1} & \\dfrac{\\partial a_3}{\\partial x_1} \\\\\n",
        "  \\dfrac{\\partial a_1}{\\partial x_2} & \\dfrac{\\partial a_2}{\\partial x_2} & \\dfrac{\\partial a_3}{\\partial x_2} \\\\\n",
        "   \\dfrac{\\partial a_1}{\\partial x_3} & \\dfrac{\\partial a_2}{\\partial x_3} & \\dfrac{\\partial a_3}{\\partial x_3} \\\\\n",
        "\\end{bmatrix}\n",
        "\n",
        "= \\begin{bmatrix} 1\\dfrac{\\partial a_1}{\\partial x_1} + 1\\dfrac{\\partial a_1}{\\partial x_2} + 1\\dfrac{\\partial a_1}{\\partial x_3} & 1\\dfrac{\\partial a_2}{\\partial x_1} + 1\\dfrac{\\partial a_2}{\\partial x_2} + 1\\dfrac{\\partial a_2}{\\partial x_3} & 1\\dfrac{\\partial a_3}{\\partial x_1} + 1\\dfrac{\\partial a_3}{\\partial x_2} + 1\\dfrac{\\partial a_3}{\\partial x_3} \\end{bmatrix}\n",
        "\n",
        "= \\begin{bmatrix} 12(0)^3 + 0 + 0 & 0 + 12(1)^3 + 0 & 0 + 0 + 12(5)^3 \\end{bmatrix} =  \\begin{bmatrix} 0 & 12 & 1500 \\end{bmatrix}$$\n",
        "\n",
        "Uzyskujemy te same gradienty co policzyliśmy dla wektora $\\mathbf x$. Zamiast przekazywać wektor jedynek do `backward()`, można najpierw policzyć sumę wektora $\\mathbf a$ a potem wykonać propagację wsteczną."
      ]
    },
    {
      "cell_type": "code",
      "metadata": {
        "id": "PVcNdrQKo0d0",
        "outputId": "48902ca7-f5e1-4f11-b7e5-780b5a112f8e",
        "colab": {
          "base_uri": "https://localhost:8080/"
        }
      },
      "source": [
        "x.grad.data.zero_()\n",
        "a = 3*(x**2)**2 + y**3\n",
        "a.sum().backward()\n",
        "print(x.grad)\n",
        "print(12*(x**3))\n",
        "assert (x.grad == 12*(x**3)).all()"
      ],
      "execution_count": null,
      "outputs": [
        {
          "output_type": "stream",
          "name": "stdout",
          "text": [
            "tensor([   0.,   12., 1500.])\n",
            "tensor([   0.,   12., 1500.], grad_fn=<MulBackward0>)\n"
          ]
        }
      ]
    },
    {
      "cell_type": "markdown",
      "metadata": {
        "id": "ZpK5aW-CrKxP"
      },
      "source": [
        "Wtedy pamiętając o tym, że pochodna sumy to suma pochodnych ($(f(x) + g(x))' = f'(x) + g'(x)$):\n",
        "\n",
        "$$\\begin{bmatrix}\n",
        " \\dfrac{\\partial a}{\\partial x_1} & \\dfrac{\\partial a}{\\partial x_2} & \\dfrac{\\partial a}{\\partial x_3}\n",
        "\\end{bmatrix} = \\begin{bmatrix} \\dfrac{\\partial (a_1 + a_2 + a_3)}{\\partial x_1} & \\dfrac{\\partial (a_1 + a_2 + a_3)}{\\partial x_2} & \\dfrac{\\partial (a_1 + a_2 + a_3)}{\\partial x_3} \\end{bmatrix} = \\begin{bmatrix} \\dfrac{\\partial a_1}{\\partial x_1} + \\dfrac{\\partial a_2}{\\partial x_1} + \\dfrac{\\partial a_3}{\\partial x_1} & \\dfrac{\\partial a_1}{\\partial x_2} + \\dfrac{\\partial a_2}{\\partial x_2} + \\dfrac{\\partial a_3}{\\partial x_2} & \\dfrac{\\partial a_1}{\\partial x_3} + \\dfrac{\\partial a_2}{\\partial x_3} + \\dfrac{\\partial a_3}{\\partial x_3} \\end{bmatrix} = \\begin{bmatrix} \\dfrac{\\partial a_1}{\\partial x_1} & \\dfrac{\\partial a_2}{\\partial x_2} & \\dfrac{\\partial a_3}{\\partial x_3} \\end{bmatrix} =  \\begin{bmatrix} 0 & 12 & 1500 \\end{bmatrix} $$\n",
        "\n",
        "Zatem po co w ogóle ten wektor? Otóż służy on do przekazywania wektora gradientu funkcji straty ($\\dfrac{\\partial \\mathbf{loss}}{\\partial \\mathbf w}$). Dzięki temu możemy mieć wpływ na to jaką poprawkę trzeba wykonać na danym wektorze (np. z parametrami modelu) względem tego jak bardzo mocno model pomylił się na danych uczących."
      ]
    },
    {
      "cell_type": "code",
      "metadata": {
        "id": "jPnhVtQ2wIpy",
        "outputId": "d04f1355-b56a-41f8-c0d1-307e72008120",
        "colab": {
          "base_uri": "https://localhost:8080/"
        }
      },
      "source": [
        "x.grad.data.zero_()\n",
        "a = 3*(x**2)**2 + y**3\n",
        "a.backward(torch.tensor([0., 0.3, -0.4]))\n",
        "print(x.grad)\n",
        "print(12*(x**3))"
      ],
      "execution_count": null,
      "outputs": [
        {
          "output_type": "stream",
          "name": "stdout",
          "text": [
            "tensor([   0.0000,    3.6000, -600.0001])\n",
            "tensor([   0.,   12., 1500.], grad_fn=<MulBackward0>)\n"
          ]
        }
      ]
    },
    {
      "cell_type": "markdown",
      "metadata": {
        "id": "2nRcH7fZx-m9"
      },
      "source": [
        "## Graf obliczeniowy\n",
        "\n",
        "To wszystko jest możliwe dzięki temu, że autograd tworzy **acykliczny skierowany graf obilczeniowy**. Gdzie go przechowuje? Spójrzmy jeszcze raz na nasz wektor $\\mathbf a$."
      ]
    },
    {
      "cell_type": "code",
      "metadata": {
        "id": "req-qWXFx-Po",
        "outputId": "579225de-84bc-4577-bbaa-b8d682d9bb8d",
        "colab": {
          "base_uri": "https://localhost:8080/"
        }
      },
      "source": [
        "print(a)\n",
        "print(a.grad_fn.next_functions)"
      ],
      "execution_count": null,
      "outputs": [
        {
          "output_type": "stream",
          "name": "stdout",
          "text": [
            "tensor([ 512.,   11., 1939.], grad_fn=<AddBackward0>)\n",
            "((<MulBackward0 object at 0x7f11b2a224c0>, 0), (<PowBackward0 object at 0x7f11b2a229d0>, 0))\n"
          ]
        }
      ]
    },
    {
      "cell_type": "markdown",
      "metadata": {
        "id": "vWUeVJI4tC0y"
      },
      "source": [
        "Obiekt a ma pole `grad_fn` a ono ma pole `next_functions`. Widzimy, że $\\mathbf a$ powstało z przemnożenia dwóch tensorów, gdzie pierwszy tensor był wynikiem mnożenia a drugi - potęgowania. A więc na razie wiemy, że `a = (_*_) + (_**_)`. I kolejno przechodząc po tym grafie możemy dalej odkrywać jego strukturę i jaka droga skonstruowania $\\mathbf a$ się za nim kryje."
      ]
    },
    {
      "cell_type": "code",
      "metadata": {
        "id": "iG7ewXOpuBg9",
        "outputId": "93c2b14c-1b56-4d2f-d74a-4c6e1616b5bb",
        "colab": {
          "base_uri": "https://localhost:8080/"
        }
      },
      "source": [
        "print(a.grad_fn.next_functions[0][0].next_functions) # a = ((_**_))*_) + (_**_)\n",
        "print(a.grad_fn.next_functions[0][0].next_functions[0][0].next_functions) # a = (((_**_))**_))*_) + (_**_)\n",
        "print(a.grad_fn.next_functions[0][0].next_functions[0][0].next_functions[0][0].next_functions) # a = (((x**_))**_))*_) + (_**_)\n",
        "print()\n",
        "print(a.grad_fn.next_functions[1][0].next_functions) # a = (((x**_))**_))*_) + (y**_)"
      ],
      "execution_count": null,
      "outputs": [
        {
          "output_type": "stream",
          "name": "stdout",
          "text": [
            "((<PowBackward0 object at 0x7f110e65fd60>, 0), (None, 0))\n",
            "((<PowBackward0 object at 0x7f110e65ff40>, 0),)\n",
            "((<AccumulateGrad object at 0x7f110e65fd60>, 0),)\n",
            "\n",
            "((<AccumulateGrad object at 0x7f110e65fd60>, 0),)\n"
          ]
        }
      ]
    },
    {
      "cell_type": "markdown",
      "metadata": {
        "id": "O9AcjeSWwe2C"
      },
      "source": [
        "Po chwilii analizy można dostrzec że ta strutura odpowiada obliczeniu tensora $a$ ze wzoru $3(\\mathbf x^2)^2 + \\mathbf y^3$.\n",
        "\n",
        "Jeszcze warto wspomnieć o tym, że PyTorch śledzi to dla których tensorów trzeba tworzyć ten graf a dla których nie. Dlatego też jeżeli w operacjach użyjemy tensora, który \"wymaga gradientu\" (`requires_grad=True`) to uzyskamy tensor \"wymagający gradientu\":"
      ]
    },
    {
      "cell_type": "code",
      "metadata": {
        "id": "OsVXVIt0xgmH",
        "outputId": "79abf335-7c58-457c-dfed-b6c17a6f7e9e",
        "colab": {
          "base_uri": "https://localhost:8080/"
        }
      },
      "source": [
        "x = torch.tensor([1., 2., 3.])\n",
        "y = torch.tensor([6., 7., 8.])\n",
        "z = torch.tensor([9., 7., 8.], requires_grad=True)\n",
        "print((2*x + 3**y).requires_grad)\n",
        "print((2*x + 3**y + z).requires_grad)"
      ],
      "execution_count": null,
      "outputs": [
        {
          "output_type": "stream",
          "name": "stdout",
          "text": [
            "False\n",
            "True\n"
          ]
        }
      ]
    },
    {
      "cell_type": "markdown",
      "metadata": {
        "id": "F31LTMdi2ZTe"
      },
      "source": [
        "# Refatoring kodu z laboratorium 2\n",
        "\n",
        "W tej części laboratorium dokonasz refaktoringu kodu z laboratorium drugiego z wykorzystaniem gotowych rozwiązań w bibliotece `torch` a w szczególności w `torch.nn`. Najpierw zacznijmy od załadowania zbioru danych i podzielenia go na zbiór uczący i testowy."
      ]
    },
    {
      "cell_type": "code",
      "metadata": {
        "id": "U9wlFq0z2y-R",
        "outputId": "bde5dae2-f61e-4a8a-b60b-d70cd24a333a",
        "colab": {
          "base_uri": "https://localhost:8080/"
        }
      },
      "source": [
        "X, y = load_iris(return_X_y=True)\n",
        "\n",
        "X_train, X_test, y_train, y_test = train_test_split(X, y, test_size=0.4, random_state=1, stratify=y)\n",
        "\n",
        "X_train = torch.tensor(X_train).float().cuda()\n",
        "X_test = torch.tensor(X_test).float().cuda()\n",
        "y_train = torch.tensor(y_train).cuda()\n",
        "y_test = torch.tensor(y_test).cuda()\n",
        "\n",
        "y_test"
      ],
      "execution_count": null,
      "outputs": [
        {
          "output_type": "execute_result",
          "data": {
            "text/plain": [
              "tensor([0, 2, 0, 1, 2, 1, 1, 2, 2, 0, 2, 0, 2, 2, 1, 1, 2, 1, 2, 1, 0, 0, 2, 0,\n",
              "        1, 1, 2, 0, 2, 0, 0, 1, 1, 2, 2, 0, 0, 0, 0, 2, 1, 2, 0, 0, 2, 2, 1, 0,\n",
              "        0, 1, 2, 1, 1, 1, 2, 1, 0, 0, 1, 1], device='cuda:0')"
            ]
          },
          "metadata": {},
          "execution_count": 13
        }
      ]
    },
    {
      "cell_type": "markdown",
      "metadata": {
        "id": "I7l1l8oi5xIM"
      },
      "source": [
        "## `nn.Module` oraz `CrossEntropyLoss`\n",
        "\n",
        "Na poprzednich laboratoriach w tym miejscu implementowaliśmy funkcję sigmoid, inicjalizację parametrów oraz propagację w przód i wsteczną. Tym razem nie będzie trzeba tego robić, jednakże zdefiniujesz architekturę sieci przy użyciu modułu `torch.nn`.\n",
        "\n",
        "***Zaimplementuj*** klasę Perceptron - klasę dziedziczącą po `nn.Module` z jedną warstwą transformacji liniowej (Perceptrona, [`torch.nn.Linear`](https://pytorch.org/docs/stable/generated/torch.nn.Linear.html)). Na razie ***pomiń*** transformację nieliniową (np. sigmoid).\n",
        "\n"
      ]
    },
    {
      "cell_type": "code",
      "metadata": {
        "id": "x3puwuoU_pt_"
      },
      "source": [
        "class Perceptron(nn.Module):\n",
        "    def __init__(self):\n",
        "        super().__init__()\n",
        "        self.net = nn.Linear(X_train.shape[1], 3) # Użyj nn.Linear\n",
        "\n",
        "    def forward(self, x: torch.Tensor):\n",
        "        return self.net(x)\n"
      ],
      "execution_count": null,
      "outputs": []
    },
    {
      "cell_type": "markdown",
      "metadata": {
        "id": "rY0OAVWM8DF6"
      },
      "source": [
        "Wspominmy tylko, że można nadal używać `torch.nn` i nie wykorzystywać gotowych warstw sieci tylko samemu implementować operacje na tensorach:\n",
        "\n",
        "```\n",
        "class Perceptron(nn.Module):\n",
        "    def __init__(self, in_dim: int, out_dim: int):\n",
        "        super().__init__()\n",
        "        self.weights = nn.Parameter(\n",
        "          torch.randn(in_dim, out_dim) / math.sqrt(in_dim)\n",
        "        )\n",
        "        self.bias = nn.Parameter(torch.zeros(out_dim))\n",
        "\n",
        "    def forward(self, xb: torch.Tensor):\n",
        "        return xb @ self.weights + self.bias\n",
        "```\n",
        "***Przetestuj*** poprawność swojej implementacji."
      ]
    },
    {
      "cell_type": "code",
      "metadata": {
        "id": "g3OrIHg-82v5",
        "outputId": "1090aeda-06e6-4cd4-a180-9e25ee6fe282",
        "colab": {
          "base_uri": "https://localhost:8080/"
        }
      },
      "source": [
        "model = Perceptron().cuda()\n",
        "y_pred_0 = model(X_train[0])\n",
        "print(y_pred_0)\n",
        "\n",
        "assert isinstance(y_pred_0, torch.cuda.FloatTensor)\n",
        "assert len(y_pred_0) == 3"
      ],
      "execution_count": null,
      "outputs": [
        {
          "output_type": "stream",
          "name": "stdout",
          "text": [
            "tensor([ 0.0763, -3.8371, -5.5080], device='cuda:0', grad_fn=<AddBackward0>)\n"
          ]
        }
      ]
    },
    {
      "cell_type": "markdown",
      "metadata": {
        "id": "sdodFGsV_EMR"
      },
      "source": [
        "Wykorzystanie `nn.Linear` nie tylko odciążyło nas z implementacji operacji na tensorasch, ale także z inicjalizacji paprametrów modelu - inicjalizacja parametrów jest domyślnie implementowana przez daną wartstwę. Jeżeli uruchomisz powyższy kod wielokrotnie to zauważysz, że za każdym razem otrzymujesz inny tensor wyjściowy. Wynika to z tego, że początkowe parametry modelu są domyślnie **losowane**. Oznacza to, że proces uczenia będzie **niedeterministryczny** - każde uruchomienie da inny wynik parametrów, które model się nauczy.\n",
        "\n",
        "Pozostało jeszcze dodanie nieliniowej transformacji do sieci, ale nie będziemy tego robić. Dodatkowo zamiast tworzyć osobny klasifikator na klasę, zastosujemy jeden klasyfikator. W tym celu zmieniemy funkcję kosztu. Do klasyfikacji wieloklasowej wykorzystamy funkcję **straty krzyżowej entropii**.\n",
        "\n",
        "$\\text{loss} = -\\frac{1}{N}\\sum_{i}^{N}\\log(\\text{softmax}(x_{i}){y_{i}}) $, gdzie $N$ oznacza liczbę przypadków, $x_{i}$ wyjście z ostatniej warstwy $i$-tej instancji, $y_{i}$ klasę $i$-tej instancji.\n",
        "\n",
        "**Softmax** jest przekstałceniem nielinowym powszechnie używanym jako ostatnia warstwa sieci neuronowej służącej do klasyfikacji. Jej mocną stroną jest to, że suma wszystkich elementów tensora będących na jej wyjściu wynosi $1$. Dzięki temu możemy wyjście sieci interpretować jako przypisanie pseudoprawdopodbieństwa dla klasyfikacji dla danej próbki.\n",
        "\n",
        "Dla danego wektora $\\mathbf x = (x_1, x_2, \\ldots, x_i, \\ldots, x_C)$ funkcja Softmax jest zdefiniowana jako:\n",
        "$\\text{Softmax}(x_{i}) = \\frac{\\exp(x_{i})}{\\sum_{j}^{C} \\exp(x_{j})}$, gdzie $C$ oznacza liczbę klas.\n",
        "\n",
        "W tym zadaniu nie będziemy implementować tych funkcji samemu tylko wykorzystamy gotową implementację w bibliotece torch. Implementację znajdziemy w [`torch.nn.CrossEntropyLoss`](https://pytorch.org/docs/stable/generated/torch.nn.CrossEntropyLoss.html). Przyjmuje ona \"surowe\" wartości, dlatego że oblicza również funkcję **LogSoftmax**. Alternatywnie możemy nałożyć funkcję aktywacji LogSoftmax z modułu [`torch.nn.LogSoftmax`](https://pytorch.org/docs/stable/generated/torch.nn.LogSoftmax.html) i obliczyć negatywny logarytm funkcji wiarygodności (ang. *negative log likelihood*) [`torch.nn.NLLLoss`](https://pytorch.org/docs/stable/generated/torch.nn.NLLLoss.html#torch.nn.NLLLoss). `torch.nn.NLLLoss` nie wykonuje operacji logarytmowania tylko oczekuje zlogarytmowanego wejścia.\n",
        "\n",
        "**LogSoftmax** wykorzystany jest tutaj nieprzypadkowo. Funkcja softmax w oryginalnej postaci nie jest odparna na wystąpienie niestabilności numerycznych. W przypadku liczenia entropii krzyżowej możemy wykorzystać skalę logarytmiczną do przeprowadzenia operacji. Dzięki przenesieniu obliczania logarytmu do funkcji Softmax możemy zastąpić dzielenie na różnicę logarytmów. czyli zamiast powyższej definicji funkcja LogSoftmax przyjmuję następującą postać:\n",
        "\n",
        "$\\text{LogSoftmax}(x_{i}) = x_{i} - log \\bigg({\\sum_{j}^{C} \\exp(x_{j})}\\bigg)$\n",
        "\n",
        "Dodatkowo stosowany jest także trik polegający na zastąpieniu operacji $log \\bigg({\\sum_{j}^{C} \\exp(x_{j})}\\bigg)$ operacją **LogSumExp**, zdefiniowaną jako\n",
        "\n",
        "$\\text{LogSumExp}(\\mathbf x) = \\max(\\mathbf x) + log \\bigg({\\sum_{j}^{C} \\exp(x_{j} - \\max(\\mathbf x))}\\bigg)$.\n",
        "\n",
        "Pozwala to pozbyć się dużych wartości $x_{j}$ podczas obliczania $\\exp$.\n",
        "\n"
      ]
    },
    {
      "cell_type": "markdown",
      "metadata": {
        "id": "S5hwoYUOMCE7"
      },
      "source": [
        "## Algorytmy online i offline (`DataLoader`)\n",
        "\n",
        "Na poprzednich zajęciach zaimplementowałaś(eś) **algorytm offline** (alternatywnie batchowy lub deterministyczny, ang. *offline*, *batch*, *deterministic*) tzn. taki, który przetwarza od razu wszystkie dane. Jednakże implementując sieci neuronowe tworzymy często algorytmy **online** (alternatywnie stochastyczne, ang. *online*, *stochastic*), które przetwarzają dane w \"kawałkach\" lub wręcz mogą dostawać je \"na bieżąco\" bez konieczności posiadania wszystkcih danych przed uruchomieniem algorytmu. Są różne powody, dla których tak się robi, ale najczęstrzy jest taki, że przy głębszych architektrurach i bardziej złożonych obiektach (np. obrazach) byłoby fizycznie nie możliwe pomieścić te wszystkie dane w pamięci RAM lub VRAM (RAM na GPU) wraz z parametrami modelu.\n",
        "\n",
        "Liczbę próbek w algorytmach stochastycznych w sieciach neuronowych określa się jako **minibatch size** lub po prostu **batch size**. Przy czym określenie *batch size* nie odnosi się tutaj do algorytmów batchowych (operujących na całym zbiorze danych), tylko do algorytmów online/minibatch. Po prostu *batch size* jest określeniem krótszym (ale mniej poprawnym) niż *minibatch size*, stąd też powszechnie używa się tego pierwszego. Z tego też powodu czasami niektórzy używają określenia *batch* na *minibatch* - warto mieć to na uwadze przy komunikowaniu się z innymi osobami.\n",
        "\n",
        "Do zaimplementowania minibatchy wykorzystamy [`torch.utils.data.DataLoader`](https://pytorch.org/docs/stable/data.html#torch.utils.data.DataLoader). ***Zaimplementuj*** funkcję `to_dataloader`, która `X_train` i `y_train` oraz `X_test` i `y_test` umieści w dwóch osobnych instancjach klasy `DataLoader` z wielkością minibatacha równą `batch_size`"
      ]
    },
    {
      "cell_type": "code",
      "metadata": {
        "id": "ni_A2b6nQHTX"
      },
      "source": [
        "def to_dataloader(\n",
        "    X_train: torch.Tensor,\n",
        "    y_train: torch.Tensor,\n",
        "    X_test: torch.Tensor,\n",
        "    y_test: torch.Tensor,\n",
        "    batch_size: int = 32\n",
        ") -> Tuple[DataLoader, DataLoader]:\n",
        "    train_ds = TensorDataset(X_train, y_train)#, shuffle=True)\n",
        "    train_sampler = RandomSampler(train_ds) #musiałem dodać bo wyżej był błąd\n",
        "    train_dl = DataLoader(dataset=train_ds, batch_size=batch_size,\n",
        "                          sampler=train_sampler)\n",
        "\n",
        "    test_ds = TensorDataset(X_test, y_test)\n",
        "    test_dl = DataLoader(dataset=test_ds, batch_size=batch_size)\n",
        "\n",
        "    return train_dl, test_dl"
      ],
      "execution_count": null,
      "outputs": []
    },
    {
      "cell_type": "markdown",
      "metadata": {
        "id": "LaPQq3iKXPJ-"
      },
      "source": [
        "***Przetestuj*** implementację"
      ]
    },
    {
      "cell_type": "code",
      "metadata": {
        "id": "m6LRNS6sWWA2",
        "colab": {
          "base_uri": "https://localhost:8080/"
        },
        "outputId": "2f899546-9d8e-404c-a0ac-0518efaaa5e1"
      },
      "source": [
        "train_loader, test_loader = to_dataloader(\n",
        "    X_train=X_train,  y_train=y_train,\n",
        "    X_test=X_test, y_test=y_test,\n",
        "    batch_size=32\n",
        ")\n",
        "\n",
        "for sample in test_loader:\n",
        "    print(sample)"
      ],
      "execution_count": null,
      "outputs": [
        {
          "output_type": "stream",
          "name": "stdout",
          "text": [
            "[tensor([[5.1000, 3.8000, 1.9000, 0.4000],\n",
            "        [7.4000, 2.8000, 6.1000, 1.9000],\n",
            "        [4.6000, 3.2000, 1.4000, 0.2000],\n",
            "        [6.4000, 2.9000, 4.3000, 1.3000],\n",
            "        [7.3000, 2.9000, 6.3000, 1.8000],\n",
            "        [7.0000, 3.2000, 4.7000, 1.4000],\n",
            "        [5.1000, 2.5000, 3.0000, 1.1000],\n",
            "        [7.2000, 3.2000, 6.0000, 1.8000],\n",
            "        [6.7000, 2.5000, 5.8000, 1.8000],\n",
            "        [5.0000, 3.4000, 1.5000, 0.2000],\n",
            "        [6.1000, 3.0000, 4.9000, 1.8000],\n",
            "        [5.1000, 3.5000, 1.4000, 0.2000],\n",
            "        [6.9000, 3.2000, 5.7000, 2.3000],\n",
            "        [6.2000, 3.4000, 5.4000, 2.3000],\n",
            "        [6.0000, 3.4000, 4.5000, 1.6000],\n",
            "        [6.1000, 3.0000, 4.6000, 1.4000],\n",
            "        [6.8000, 3.0000, 5.5000, 2.1000],\n",
            "        [6.8000, 2.8000, 4.8000, 1.4000],\n",
            "        [5.7000, 2.5000, 5.0000, 2.0000],\n",
            "        [6.2000, 2.2000, 4.5000, 1.5000],\n",
            "        [5.7000, 4.4000, 1.5000, 0.4000],\n",
            "        [5.0000, 3.5000, 1.6000, 0.6000],\n",
            "        [6.7000, 3.3000, 5.7000, 2.5000],\n",
            "        [4.4000, 2.9000, 1.4000, 0.2000],\n",
            "        [5.6000, 2.7000, 4.2000, 1.3000],\n",
            "        [6.6000, 3.0000, 4.4000, 1.4000],\n",
            "        [5.9000, 3.0000, 5.1000, 1.8000],\n",
            "        [5.4000, 3.9000, 1.7000, 0.4000],\n",
            "        [6.7000, 3.1000, 5.6000, 2.4000],\n",
            "        [4.9000, 3.0000, 1.4000, 0.2000],\n",
            "        [4.6000, 3.4000, 1.4000, 0.3000],\n",
            "        [5.7000, 2.8000, 4.1000, 1.3000]], device='cuda:0'), tensor([0, 2, 0, 1, 2, 1, 1, 2, 2, 0, 2, 0, 2, 2, 1, 1, 2, 1, 2, 1, 0, 0, 2, 0,\n",
            "        1, 1, 2, 0, 2, 0, 0, 1], device='cuda:0')]\n",
            "[tensor([[6.7000, 3.1000, 4.4000, 1.4000],\n",
            "        [6.5000, 3.0000, 5.5000, 1.8000],\n",
            "        [6.4000, 2.7000, 5.3000, 1.9000],\n",
            "        [4.8000, 3.4000, 1.6000, 0.2000],\n",
            "        [5.2000, 3.4000, 1.4000, 0.2000],\n",
            "        [5.4000, 3.4000, 1.7000, 0.2000],\n",
            "        [4.8000, 3.0000, 1.4000, 0.1000],\n",
            "        [6.5000, 3.0000, 5.2000, 2.0000],\n",
            "        [6.5000, 2.8000, 4.6000, 1.5000],\n",
            "        [7.1000, 3.0000, 5.9000, 2.1000],\n",
            "        [4.9000, 3.1000, 1.5000, 0.2000],\n",
            "        [5.4000, 3.9000, 1.3000, 0.4000],\n",
            "        [6.5000, 3.0000, 5.8000, 2.2000],\n",
            "        [4.9000, 2.5000, 4.5000, 1.7000],\n",
            "        [6.1000, 2.8000, 4.7000, 1.2000],\n",
            "        [4.9000, 3.1000, 1.5000, 0.1000],\n",
            "        [5.0000, 3.0000, 1.6000, 0.2000],\n",
            "        [4.9000, 2.4000, 3.3000, 1.0000],\n",
            "        [6.9000, 3.1000, 5.1000, 2.3000],\n",
            "        [5.5000, 2.3000, 4.0000, 1.3000],\n",
            "        [5.6000, 3.0000, 4.5000, 1.5000],\n",
            "        [6.3000, 3.3000, 4.7000, 1.6000],\n",
            "        [5.6000, 2.8000, 4.9000, 2.0000],\n",
            "        [5.4000, 3.0000, 4.5000, 1.5000],\n",
            "        [5.7000, 3.8000, 1.7000, 0.3000],\n",
            "        [4.9000, 3.6000, 1.4000, 0.1000],\n",
            "        [6.0000, 2.2000, 4.0000, 1.0000],\n",
            "        [6.1000, 2.8000, 4.0000, 1.3000]], device='cuda:0'), tensor([1, 2, 2, 0, 0, 0, 0, 2, 1, 2, 0, 0, 2, 2, 1, 0, 0, 1, 2, 1, 1, 1, 2, 1,\n",
            "        0, 0, 1, 1], device='cuda:0')]\n"
          ]
        }
      ]
    },
    {
      "cell_type": "markdown",
      "metadata": {
        "id": "B7yYkPUtxcaJ"
      },
      "source": [
        "## Ewaluacja modelu - metryki\n",
        "\n",
        "***Zaimplementuj*** funkcję `validate`, które dla danego modelu, funkcji straty i loadera zwróci średnią wartość funkcji straty oraz dokładność (ang. *accuracy*) dla danych z `dataloader`."
      ]
    },
    {
      "cell_type": "code",
      "metadata": {
        "id": "5iCngT3Ctn-e"
      },
      "source": [
        "def count_correct(\n",
        "    y_pred: torch.Tensor, y_true: torch.Tensor\n",
        ") -> torch.Tensor:\n",
        "    preds = torch.argmax(y_pred, dim=1)\n",
        "    return (preds == y_true).float().sum()\n",
        "\n",
        "def validate(\n",
        "    model: nn.Module,\n",
        "    loss_fn: torch.nn.CrossEntropyLoss,\n",
        "    dataloader: DataLoader\n",
        ") -> Tuple[torch.Tensor, torch.Tensor]:\n",
        "    loss = 0\n",
        "    correct = 0\n",
        "    all = 0\n",
        "    for X_batch, y_batch in dataloader:\n",
        "        y_pred = model(X_batch)\n",
        "        all += len(y_pred)\n",
        "        loss += loss_fn(y_pred, y_batch).sum()\n",
        "        correct += count_correct(y_pred, y_batch)\n",
        "    return loss / all, correct / all\n"
      ],
      "execution_count": null,
      "outputs": []
    },
    {
      "cell_type": "markdown",
      "metadata": {
        "id": "sZgBH3lxF2l5"
      },
      "source": [
        "***Przetestuj*** swoją implementację"
      ]
    },
    {
      "cell_type": "code",
      "metadata": {
        "id": "X0W8GaaNvoFC",
        "colab": {
          "base_uri": "https://localhost:8080/"
        },
        "outputId": "38abd7e5-108b-462c-97e3-be6b0179b2c7"
      },
      "source": [
        "loss_fn = torch.nn.CrossEntropyLoss()\n",
        "val_train, acc_train = validate(model, loss_fn, test_loader)\n",
        "print(val_train, acc_train)"
      ],
      "execution_count": null,
      "outputs": [
        {
          "output_type": "stream",
          "name": "stdout",
          "text": [
            "tensor(0.0972, device='cuda:0', grad_fn=<DivBackward0>) tensor(0.3333, device='cuda:0')\n"
          ]
        }
      ]
    },
    {
      "cell_type": "markdown",
      "metadata": {
        "id": "l6Me2ep7HFC-"
      },
      "source": [
        "## Uczenie\n",
        "\n",
        "Przed uzupełnieniem poniżej implementacji została nam jeszcze jedna istotna kwestia do poruszenia. Otóż dot tej pory aktualizację parametrów dokonywaliśmy wg prostej formuły - mnożyliśmy gradienty przez współczynnik uczenia (ang. *learning rate*) i odejmowalismy od parametrów. Jednakże do uczenia sieci neuronowych sotsujemy często optymalizatory (ang. *optimiser*), które mogą implementować różne podejścia do uakualiniania parameterów modelu. Wykorzystamy tutaj algorytm **Adam** (ang. *adaptive moment estimation*), który dostosowuje współczynnik uczenia do poszczególnych parametrów i jest często optimizatorem pierwszego wyboru.\n",
        "\n",
        "***Uzupełnij i przetestuj*** poniższą implementację uczenia modelu. Porównaj jej skuteczność z tą, którą zaimplementowałeś(aś) na laboratorium 2."
      ]
    },
    {
      "cell_type": "code",
      "metadata": {
        "id": "Enlx7Cr33frK",
        "colab": {
          "base_uri": "https://localhost:8080/"
        },
        "outputId": "9817b73e-6bf4-42a0-93ec-32e5414f1e7c"
      },
      "source": [
        "import matplotlib.pyplot as plt\n",
        "import numpy as np\n",
        "\n",
        "def fit(\n",
        "    model: nn.Module, optimiser: optim.Optimizer,\n",
        "    loss_fn: torch.nn.CrossEntropyLoss, train_dl: DataLoader,\n",
        "    val_dl: DataLoader, epochs: int,\n",
        "    print_metrics: str = True\n",
        "):\n",
        "    loss_train_log=[]\n",
        "    acc_train_log=[]\n",
        "    loss_test_log=[]\n",
        "    acc_test_log=[]\n",
        "    for epoch in range(epochs):\n",
        "        for X_batch, y_batch in train_dl:\n",
        "            y_pred = model(X_batch) # Uzyskanie pseudoprawdopodobieństw dla próbek z minibatcha\n",
        "            loss = loss_fn(y_pred, y_batch) # Policzenie funkcji straty\n",
        "\n",
        "            loss.backward() # Wsteczna propagacja z wyniku funkcji straty - policzenie gradientów i zapisanie ich w tensorach (parametrach)\n",
        "            optimiser.step() # Aktualizacja parametrów modelu przez optymalizator na podstawie gradientów zapisanych w tensorach (parametrach) oraz lr\n",
        "            optimiser.zero_grad() # Wyzerowanie gradientów w modelu, alternatywnie można wywołać percepron.zero_grad()\n",
        "\n",
        "        if print_metrics:\n",
        "            model.eval() # Przełączenie na tryb ewaluacji modelu - istotne dla takich warstw jak Dropuot czy BatchNorm\n",
        "            with torch.no_grad():  # Wstrzymujemy przeliczanie i śledzenie gradientów dla tensorów - w procesie ewaluacji modelu nie chcemy zmian w gradientach\n",
        "                train_loss, train_acc = validate(model, loss_fn, train_dl)\n",
        "                val_loss, val_acc = validate(model, loss_fn, val_dl)\n",
        "                print(\n",
        "                    f\"Epoch {epoch}: \"\n",
        "                    f\"train loss = {train_loss:.3f} (acc: {train_acc:.3f}), \"\n",
        "                    f\"validation loss = {val_loss:.3f} (acc: {val_acc:.3f})\"\n",
        "                )\n",
        "                loss_train_log.append(round(float(train_loss.cpu()),4))\n",
        "                acc_train_log.append(round(float(train_acc.cpu()),4))\n",
        "                loss_test_log.append(round(float(val_loss.cpu()),4))\n",
        "                acc_test_log.append(round(float(val_acc.cpu()),4))\n",
        "\n",
        "    model.eval() # Przełączenie na tryb ewaluacji modelu - istotne dla takich warstw jak Dropuot czy BatchNorm\n",
        "    epoch_list = np.arange(1, epochs+1)\n",
        "    return epoch_list, loss_train_log, acc_train_log, loss_test_log, acc_test_log\n",
        "\n",
        "\n",
        "\n",
        "\n",
        "train_dl, test_dl = to_dataloader(\n",
        "    X_train=X_train,\n",
        "    y_train=y_train,\n",
        "    X_test=X_test,\n",
        "    y_test=y_test,\n",
        "    batch_size=32\n",
        ")\n",
        "perceptron = Perceptron().cuda()\n",
        "optimiser = optim.Adam(perceptron.parameters(), lr=0.1)\n",
        "loss_fn = torch.nn.CrossEntropyLoss()\n",
        "epochs, loss_train_log, acc_train_log, loss_test_log, acc_test_log = fit(\n",
        "    model=perceptron, optimiser=optimiser, loss_fn=loss_fn,\n",
        "    train_dl=train_dl, val_dl=test_dl, epochs=60\n",
        ")"
      ],
      "execution_count": null,
      "outputs": [
        {
          "output_type": "stream",
          "name": "stdout",
          "text": [
            "Epoch 0: train loss = 0.042 (acc: 0.156), validation loss = 0.042 (acc: 0.217)\n",
            "Epoch 1: train loss = 0.038 (acc: 0.333), validation loss = 0.039 (acc: 0.333)\n",
            "Epoch 2: train loss = 0.022 (acc: 0.667), validation loss = 0.022 (acc: 0.667)\n",
            "Epoch 3: train loss = 0.022 (acc: 0.689), validation loss = 0.022 (acc: 0.700)\n",
            "Epoch 4: train loss = 0.020 (acc: 0.700), validation loss = 0.020 (acc: 0.733)\n",
            "Epoch 5: train loss = 0.015 (acc: 0.933), validation loss = 0.015 (acc: 0.950)\n",
            "Epoch 6: train loss = 0.015 (acc: 0.922), validation loss = 0.015 (acc: 0.917)\n",
            "Epoch 7: train loss = 0.015 (acc: 0.700), validation loss = 0.016 (acc: 0.683)\n",
            "Epoch 8: train loss = 0.014 (acc: 0.878), validation loss = 0.014 (acc: 0.883)\n",
            "Epoch 9: train loss = 0.012 (acc: 0.944), validation loss = 0.012 (acc: 0.983)\n",
            "Epoch 10: train loss = 0.013 (acc: 0.722), validation loss = 0.014 (acc: 0.717)\n",
            "Epoch 11: train loss = 0.012 (acc: 0.889), validation loss = 0.012 (acc: 0.900)\n",
            "Epoch 12: train loss = 0.011 (acc: 0.933), validation loss = 0.011 (acc: 0.967)\n",
            "Epoch 13: train loss = 0.012 (acc: 0.856), validation loss = 0.011 (acc: 0.850)\n",
            "Epoch 14: train loss = 0.010 (acc: 0.944), validation loss = 0.010 (acc: 0.967)\n",
            "Epoch 15: train loss = 0.011 (acc: 0.867), validation loss = 0.011 (acc: 0.867)\n",
            "Epoch 16: train loss = 0.010 (acc: 0.944), validation loss = 0.010 (acc: 0.917)\n",
            "Epoch 17: train loss = 0.010 (acc: 0.911), validation loss = 0.010 (acc: 0.900)\n",
            "Epoch 18: train loss = 0.010 (acc: 0.944), validation loss = 0.009 (acc: 1.000)\n",
            "Epoch 19: train loss = 0.009 (acc: 0.944), validation loss = 0.009 (acc: 1.000)\n",
            "Epoch 20: train loss = 0.009 (acc: 0.956), validation loss = 0.009 (acc: 0.950)\n",
            "Epoch 21: train loss = 0.009 (acc: 0.944), validation loss = 0.008 (acc: 1.000)\n",
            "Epoch 22: train loss = 0.009 (acc: 0.944), validation loss = 0.008 (acc: 1.000)\n",
            "Epoch 23: train loss = 0.009 (acc: 0.944), validation loss = 0.009 (acc: 0.917)\n",
            "Epoch 24: train loss = 0.008 (acc: 0.944), validation loss = 0.008 (acc: 1.000)\n",
            "Epoch 25: train loss = 0.009 (acc: 0.933), validation loss = 0.008 (acc: 0.983)\n",
            "Epoch 26: train loss = 0.008 (acc: 0.956), validation loss = 0.008 (acc: 0.950)\n",
            "Epoch 27: train loss = 0.008 (acc: 0.956), validation loss = 0.008 (acc: 0.950)\n",
            "Epoch 28: train loss = 0.009 (acc: 0.911), validation loss = 0.008 (acc: 0.967)\n",
            "Epoch 29: train loss = 0.008 (acc: 0.956), validation loss = 0.007 (acc: 0.967)\n",
            "Epoch 30: train loss = 0.008 (acc: 0.956), validation loss = 0.007 (acc: 0.950)\n",
            "Epoch 31: train loss = 0.008 (acc: 0.944), validation loss = 0.007 (acc: 1.000)\n",
            "Epoch 32: train loss = 0.007 (acc: 0.956), validation loss = 0.007 (acc: 1.000)\n",
            "Epoch 33: train loss = 0.008 (acc: 0.956), validation loss = 0.007 (acc: 0.950)\n",
            "Epoch 34: train loss = 0.007 (acc: 0.944), validation loss = 0.007 (acc: 1.000)\n",
            "Epoch 35: train loss = 0.007 (acc: 0.956), validation loss = 0.006 (acc: 1.000)\n",
            "Epoch 36: train loss = 0.007 (acc: 0.956), validation loss = 0.006 (acc: 1.000)\n",
            "Epoch 37: train loss = 0.007 (acc: 0.956), validation loss = 0.006 (acc: 1.000)\n",
            "Epoch 38: train loss = 0.007 (acc: 0.956), validation loss = 0.006 (acc: 1.000)\n",
            "Epoch 39: train loss = 0.007 (acc: 0.956), validation loss = 0.006 (acc: 1.000)\n",
            "Epoch 40: train loss = 0.006 (acc: 0.967), validation loss = 0.006 (acc: 1.000)\n",
            "Epoch 41: train loss = 0.007 (acc: 0.944), validation loss = 0.006 (acc: 1.000)\n",
            "Epoch 42: train loss = 0.006 (acc: 0.956), validation loss = 0.006 (acc: 0.967)\n",
            "Epoch 43: train loss = 0.006 (acc: 0.956), validation loss = 0.006 (acc: 1.000)\n",
            "Epoch 44: train loss = 0.006 (acc: 0.956), validation loss = 0.005 (acc: 1.000)\n",
            "Epoch 45: train loss = 0.006 (acc: 0.944), validation loss = 0.005 (acc: 1.000)\n",
            "Epoch 46: train loss = 0.006 (acc: 0.956), validation loss = 0.005 (acc: 0.983)\n",
            "Epoch 47: train loss = 0.006 (acc: 0.967), validation loss = 0.005 (acc: 1.000)\n",
            "Epoch 48: train loss = 0.006 (acc: 0.956), validation loss = 0.005 (acc: 1.000)\n",
            "Epoch 49: train loss = 0.006 (acc: 0.956), validation loss = 0.005 (acc: 1.000)\n",
            "Epoch 50: train loss = 0.006 (acc: 0.944), validation loss = 0.005 (acc: 1.000)\n",
            "Epoch 51: train loss = 0.006 (acc: 0.956), validation loss = 0.005 (acc: 1.000)\n",
            "Epoch 52: train loss = 0.006 (acc: 0.956), validation loss = 0.005 (acc: 1.000)\n",
            "Epoch 53: train loss = 0.006 (acc: 0.967), validation loss = 0.005 (acc: 1.000)\n",
            "Epoch 54: train loss = 0.005 (acc: 0.967), validation loss = 0.005 (acc: 1.000)\n",
            "Epoch 55: train loss = 0.005 (acc: 0.956), validation loss = 0.005 (acc: 1.000)\n",
            "Epoch 56: train loss = 0.005 (acc: 0.956), validation loss = 0.005 (acc: 1.000)\n",
            "Epoch 57: train loss = 0.005 (acc: 0.956), validation loss = 0.004 (acc: 1.000)\n",
            "Epoch 58: train loss = 0.005 (acc: 0.944), validation loss = 0.005 (acc: 1.000)\n",
            "Epoch 59: train loss = 0.005 (acc: 0.956), validation loss = 0.004 (acc: 1.000)\n"
          ]
        }
      ]
    },
    {
      "cell_type": "code",
      "source": [
        "fig, (ax1, ax2) = plt.subplots(nrows=2, ncols=1, figsize=(10, 8))\n",
        "ax1.plot(epochs, loss_train_log, 'b', label='Training loss')\n",
        "ax1.plot(epochs, loss_test_log, 'r', label='Validation loss')\n",
        "ax1.set_title('Training and validation loss')\n",
        "ax1.set_xlabel('Epoch')\n",
        "ax1.set_ylabel('Loss')\n",
        "leg = ax1.legend()\n",
        "ax1.set\n",
        "\n",
        "ax2.plot(epochs, acc_train_log, 'b', label='Training Accuracy')\n",
        "ax2.plot(epochs, acc_test_log, 'r', label='Validation Accuracy')\n",
        "ax2.set_title('Training and validation Accuracy')\n",
        "ax2.set_xlabel('Epoch')\n",
        "ax2.set_ylabel('Accuracy')\n",
        "leg = ax2.legend()\n",
        "\n",
        "ax2.set\n",
        "\n",
        "plt.tight_layout()"
      ],
      "metadata": {
        "colab": {
          "base_uri": "https://localhost:8080/",
          "height": 585
        },
        "id": "bzXOmxzygZAb",
        "outputId": "89e3b1a1-9aee-402f-af5e-7854117fa849"
      },
      "execution_count": null,
      "outputs": [
        {
          "output_type": "display_data",
          "data": {
            "text/plain": [
              "<Figure size 720x576 with 2 Axes>"
            ],
            "image/png": "[encoded data removed]"
          },
          "metadata": {
            "needs_background": "light"
          }
        }
      ]
    },
    {
      "cell_type": "markdown",
      "metadata": {
        "id": "hVkTsruIBaBa"
      },
      "source": [
        "***Uzupełnij*** funkcję `fit`, aby ta mogła logować metryki (*loss*, *accuracy*) per epokę. Po zebraniu historii uczenia ***przedstaw*** następujące wykresy:\n",
        "- Wykres wartości funkcji kosztu w zależności od epoki uczenia dla zbioru uczącego i testowego\n",
        "- Wykres wartości metryki *accuracy* w zależności od epoki uczenia dla zbioru uczącego i testowego\n",
        "\n",
        "Metryki dla obu zbiorów przedstaw na jednym wykresie jako serie. ***Uzupełnij*** etykiety osi i tytuły wykresów."
      ]
    },
    {
      "cell_type": "markdown",
      "metadata": {
        "id": "E_eBwlwF6siY"
      },
      "source": [
        "***Popraw*** model, tak aby otrzymać dokładność na zbiorze testowym wynoszącą co najmniej 90%. W tym celu dobierz odpowiedni współczynnik uczenia i liczbę epok.\n",
        "Do porównania badanych hiperparametrów użyj zbioru walidacyjnego. Podziel zbiór testowy na dwie równe części, jeden który będzie służyć do walidacji hiperparametrów, a drugi, który będzie służył do ewaluacji znalezionej najlepszej pary hiperparametrów. W tym celu możesz wykorzystać funkcję `torch.utils.data.random_split` z ustawionym parametrem `generator=torch.Generator().manual_seed(1)`. Przedstaw równiez wykresy o których mowa punkcie powyżej tym razem z uwzględniem trzech zbiorów (uczącego, walidacyjnego i testowego)"
      ]
    },
    {
      "cell_type": "code",
      "source": [
        "def fit(\n",
        "    model: nn.Module, optimiser: optim.Optimizer,\n",
        "    loss_fn: torch.nn.CrossEntropyLoss, train_dl: DataLoader,\n",
        "    val_dl: DataLoader, test_dl: DataLoader,\n",
        "    epochs: int,\n",
        "    print_metrics: bool = True,\n",
        "    learning_rate: float = 0.001\n",
        "    ):\n",
        "    # Divide test dataset into validation and evaluation datasets\n",
        "    half_tdl = len(test_dl)//2\n",
        "    test_dl_val, test_dl_eval = torch.utils.data.random_split(\n",
        "        test_dl, [half_tdl, half_tdl],\n",
        "        generator=torch.Generator().manual_seed(1)\n",
        "    )\n",
        "\n",
        "    loss_train_log=[]\n",
        "    acc_train_log=[]\n",
        "    loss_val_log=[]\n",
        "    acc_val_log=[]\n",
        "    loss_test_log=[]\n",
        "    acc_test_log=[]\n",
        "\n",
        "    optimiser = optim.Adam(model.parameters(), lr=learning_rate)\n",
        "\n",
        "    for epoch in range(epochs):\n",
        "        for X_batch, y_batch in train_dl:\n",
        "            y_pred = model(X_batch)\n",
        "            loss = loss_fn(y_pred, y_batch)\n",
        "\n",
        "            loss.backward()\n",
        "            optimiser.step()\n",
        "            optimiser.zero_grad()\n",
        "\n",
        "        if print_metrics:\n",
        "            model.eval()\n",
        "            with torch.no_grad():\n",
        "                train_loss, train_acc = validate(model, loss_fn, train_dl)\n",
        "                val_loss, val_acc = validate(model, loss_fn, val_dl)\n",
        "                test_loss_val, test_acc_val = validate(model, loss_fn, test_dl_val)\n",
        "                print(\n",
        "                    f\"Epoch {epoch}: \"\n",
        "                    f\"train loss = {train_loss:.3f} (acc: {train_acc:.3f}), \"\n",
        "                    f\"validation loss = {val_loss:.3f} (acc: {val_acc:.3f}), \"\n",
        "                    f\"test_loss_val = {test_loss_val:.3f} (acc: {test_acc_val:.3f})\"\n",
        "                )\n",
        "                loss_train_log.append(round(float(train_loss.cpu()),4))\n",
        "                acc_train_log.append(round(float(train_acc.cpu()),4))\n",
        "                loss_val_log.append(round(float(val_loss.cpu()),4))\n",
        "                acc_val_log.append(round(float(val_acc.cpu()),4))\n",
        "                loss_test_log.append(round(float(test_loss_val.cpu()),4))\n",
        "                acc_test_log.append(round(float(test_acc_val.cpu()),4))\n",
        "\n",
        "    model.eval()\n",
        "    epoch_list = np.arange(1, epochs+1)\n",
        "    return epoch_list, loss_train_log, acc_train_log, loss_val_log, acc_val_log, loss_test_log, acc_test_log\n"
      ],
      "metadata": {
        "id": "NyCqu9aKQsaQ"
      },
      "execution_count": null,
      "outputs": []
    }
  ]
}